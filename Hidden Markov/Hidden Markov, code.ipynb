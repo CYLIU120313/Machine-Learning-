{
 "cells": [
  {
   "cell_type": "code",
   "execution_count": 1,
   "id": "60753d22",
   "metadata": {},
   "outputs": [],
   "source": [
    "import numpy as np\n",
    "import pandas as pd \n",
    "import graphviz\n",
    "import os\n",
    "from graphviz import Digraph"
   ]
  },
  {
   "cell_type": "code",
   "execution_count": 2,
   "id": "f5a692b7",
   "metadata": {},
   "outputs": [],
   "source": [
    "os.environ[\"PATH\"] += os.pathsep + 'C:/Program Files/Graphviz/bin/'"
   ]
  },
  {
   "cell_type": "code",
   "execution_count": 3,
   "id": "cd9d12a5",
   "metadata": {},
   "outputs": [
    {
     "data": {
      "text/plain": [
       "array([[0. , 1. , 0. , 0. , 0. , 0. , 0. , 0. , 0. , 0. ],\n",
       "       [0.5, 0. , 0.5, 0. , 0. , 0. , 0. , 0. , 0. , 0. ],\n",
       "       [0. , 0.5, 0. , 0.5, 0. , 0. , 0. , 0. , 0. , 0. ],\n",
       "       [0. , 0. , 0.5, 0. , 0.5, 0. , 0. , 0. , 0. , 0. ],\n",
       "       [0. , 0. , 0. , 0.5, 0. , 0.5, 0. , 0. , 0. , 0. ],\n",
       "       [0. , 0. , 0. , 0. , 0.5, 0. , 0.5, 0. , 0. , 0. ],\n",
       "       [0. , 0. , 0. , 0. , 0. , 0.5, 0. , 0.5, 0. , 0. ],\n",
       "       [0. , 0. , 0. , 0. , 0. , 0. , 0.5, 0. , 0.5, 0. ],\n",
       "       [0. , 0. , 0. , 0. , 0. , 0. , 0. , 0.5, 0. , 0.5],\n",
       "       [0. , 0. , 0. , 0. , 0. , 0. , 0. , 0. , 1. , 0. ]])"
      ]
     },
     "execution_count": 3,
     "metadata": {},
     "output_type": "execute_result"
    }
   ],
   "source": [
    "#Construct the transition matirx:\n",
    "matrixA = np.zeros((10,10))\n",
    "for i in range(len(matrixA)):\n",
    "    for j in range(10):\n",
    "        if i == j:\n",
    "            if i == 0:\n",
    "                matrixA[i][j+1] = 1\n",
    "            elif i == 9:\n",
    "                matrixA[i][j-1] = 1\n",
    "            else:\n",
    "                matrixA[i][j-1] = 0.5\n",
    "                matrixA[i][j+1] = 0.5        \n",
    "\n",
    "matrixA"
   ]
  },
  {
   "cell_type": "code",
   "execution_count": 4,
   "id": "436c05b0",
   "metadata": {},
   "outputs": [
    {
     "data": {
      "text/plain": [
       "array([[0.5       , 0.5       , 0.        , 0.        , 0.        ,\n",
       "        0.        , 0.        , 0.        , 0.        , 0.        ],\n",
       "       [0.33333333, 0.33333333, 0.33333333, 0.        , 0.        ,\n",
       "        0.        , 0.        , 0.        , 0.        , 0.        ],\n",
       "       [0.        , 0.33333333, 0.33333333, 0.33333333, 0.        ,\n",
       "        0.        , 0.        , 0.        , 0.        , 0.        ],\n",
       "       [0.        , 0.        , 0.33333333, 0.33333333, 0.33333333,\n",
       "        0.        , 0.        , 0.        , 0.        , 0.        ],\n",
       "       [0.        , 0.        , 0.        , 0.33333333, 0.33333333,\n",
       "        0.33333333, 0.        , 0.        , 0.        , 0.        ],\n",
       "       [0.        , 0.        , 0.        , 0.        , 0.33333333,\n",
       "        0.33333333, 0.33333333, 0.        , 0.        , 0.        ],\n",
       "       [0.        , 0.        , 0.        , 0.        , 0.        ,\n",
       "        0.33333333, 0.33333333, 0.33333333, 0.        , 0.        ],\n",
       "       [0.        , 0.        , 0.        , 0.        , 0.        ,\n",
       "        0.        , 0.33333333, 0.33333333, 0.33333333, 0.        ],\n",
       "       [0.        , 0.        , 0.        , 0.        , 0.        ,\n",
       "        0.        , 0.        , 0.33333333, 0.33333333, 0.33333333],\n",
       "       [0.        , 0.        , 0.        , 0.        , 0.        ,\n",
       "        0.        , 0.        , 0.        , 0.5       , 0.5       ]])"
      ]
     },
     "execution_count": 4,
     "metadata": {},
     "output_type": "execute_result"
    }
   ],
   "source": [
    "#Construct the emission matrix:\n",
    "matrixB = np.zeros((10,10))\n",
    "for i in range(len(matrixB)):\n",
    "    for j in range(10):\n",
    "        if i == j:\n",
    "            if i == 0:\n",
    "                matrixB[i][j] = 0.5\n",
    "                matrixB[i][j+1] = 0.5\n",
    "            elif i == 9:\n",
    "                matrixB[i][j] = 0.5\n",
    "                matrixB[i][j-1] = 0.5\n",
    "            else:\n",
    "                matrixB[i][j] = 1/3\n",
    "                matrixB[i][j-1] = 1/3\n",
    "                matrixB[i][j+1] = 1/3\n",
    "\n",
    "matrixB"
   ]
  },
  {
   "cell_type": "code",
   "execution_count": 5,
   "id": "a7e4cdd8",
   "metadata": {},
   "outputs": [
    {
     "name": "stdout",
     "output_type": "stream",
     "text": [
      "{7: 0.03333333333333333, 8: 0.03333333333333333, 9: 0.03333333333333333}\n"
     ]
    }
   ],
   "source": [
    "#Choose the v1,in the example below,7:\n",
    "observe=[8,6,4,6,5,4,5,5,7,9]\n",
    "t1=dict()\n",
    "for i in range(len(matrixB)):\n",
    "    t1_prob = (0.1*matrixB[i][(observe[0])-1])\n",
    "    if t1_prob != 0:\n",
    "        t1[i+1] = t1_prob\n",
    "print(t1)"
   ]
  },
  {
   "cell_type": "code",
   "execution_count": 6,
   "id": "163fb3d4",
   "metadata": {},
   "outputs": [],
   "source": [
    "#The relationship diagram between timestep t1 and t2:\n",
    "dot_12=Digraph(graph_attr={'rankdir':'LR'})\n",
    "dot_12.node('7','7',**{'width':'0', 'height':'0'})"
   ]
  },
  {
   "cell_type": "code",
   "execution_count": 7,
   "id": "d6e743b2",
   "metadata": {},
   "outputs": [],
   "source": [
    "#Calculate the possible v2 value using Viterbi Algorithm:\n",
    "\n",
    "#A dictionary to store the possible v2 values:\n",
    "t2 = dict()\n",
    "\n",
    "#A dictionary to record the route between timestep t1 and t2, which will be used to plot the relationship diagram:\n",
    "transition_12 = dict()\n",
    "\n",
    "for i in range(len(matrixA[6])):\n",
    "    if matrixA[6][i] != 0:\n",
    "        accu_prob = t1[7]+(matrixA[6][i]*matrixB[i][5])\n",
    "        t2[i+1] = accu_prob\n",
    "        transition_12[i+1]='from7'\n",
    "        dot_12.node(f'{i+1}',f'{i+1}',**{'width':'0', 'height':'0'})\n",
    "        dot_12.edge('7',f'{i+1}')"
   ]
  },
  {
   "cell_type": "code",
   "execution_count": 8,
   "id": "c4bdbef8",
   "metadata": {},
   "outputs": [
    {
     "data": {
      "text/plain": [
       "{6: 0.19999999999999998, 8: 0.03333333333333333}"
      ]
     },
     "execution_count": 8,
     "metadata": {},
     "output_type": "execute_result"
    }
   ],
   "source": [
    "t2"
   ]
  },
  {
   "cell_type": "code",
   "execution_count": 9,
   "id": "108cc25b",
   "metadata": {},
   "outputs": [
    {
     "data": {
      "text/plain": [
       "{6: 'from7', 8: 'from7'}"
      ]
     },
     "execution_count": 9,
     "metadata": {},
     "output_type": "execute_result"
    }
   ],
   "source": [
    "transition_12"
   ]
  },
  {
   "cell_type": "code",
   "execution_count": 10,
   "id": "6d44966b",
   "metadata": {},
   "outputs": [
    {
     "data": {
      "image/svg+xml": [
       "<?xml version=\"1.0\" encoding=\"UTF-8\" standalone=\"no\"?>\n",
       "<!DOCTYPE svg PUBLIC \"-//W3C//DTD SVG 1.1//EN\"\n",
       " \"http://www.w3.org/Graphics/SVG/1.1/DTD/svg11.dtd\">\n",
       "<!-- Generated by graphviz version 3.0.0 (20220226.1711)\n",
       " -->\n",
       "<!-- Pages: 1 -->\n",
       "<svg width=\"109pt\" height=\"92pt\"\n",
       " viewBox=\"0.00 0.00 109.05 91.53\" xmlns=\"http://www.w3.org/2000/svg\" xmlns:xlink=\"http://www.w3.org/1999/xlink\">\n",
       "<g id=\"graph0\" class=\"graph\" transform=\"scale(1 1) rotate(0) translate(4 87.53)\">\n",
       "<polygon fill=\"white\" stroke=\"transparent\" points=\"-4,4 -4,-87.53 105.05,-87.53 105.05,4 -4,4\"/>\n",
       "<!-- 7 -->\n",
       "<g id=\"node1\" class=\"node\">\n",
       "<title>7</title>\n",
       "<ellipse fill=\"none\" stroke=\"black\" cx=\"16.26\" cy=\"-41.26\" rx=\"16.03\" ry=\"16.03\"/>\n",
       "<text text-anchor=\"middle\" x=\"16.26\" y=\"-37.56\" font-family=\"Times New Roman,serif\" font-size=\"14.00\">7</text>\n",
       "</g>\n",
       "<!-- 6 -->\n",
       "<g id=\"node2\" class=\"node\">\n",
       "<title>6</title>\n",
       "<ellipse fill=\"none\" stroke=\"black\" cx=\"84.79\" cy=\"-67.26\" rx=\"16.03\" ry=\"16.03\"/>\n",
       "<text text-anchor=\"middle\" x=\"84.79\" y=\"-63.56\" font-family=\"Times New Roman,serif\" font-size=\"14.00\">6</text>\n",
       "</g>\n",
       "<!-- 7&#45;&gt;6 -->\n",
       "<g id=\"edge1\" class=\"edge\">\n",
       "<title>7&#45;&gt;6</title>\n",
       "<path fill=\"none\" stroke=\"black\" d=\"M31.7,-46.91C39.98,-50.14 50.58,-54.29 60.06,-57.99\"/>\n",
       "<polygon fill=\"black\" stroke=\"black\" points=\"58.8,-61.25 69.38,-61.63 61.34,-54.73 58.8,-61.25\"/>\n",
       "</g>\n",
       "<!-- 8 -->\n",
       "<g id=\"node3\" class=\"node\">\n",
       "<title>8</title>\n",
       "<ellipse fill=\"none\" stroke=\"black\" cx=\"84.79\" cy=\"-16.26\" rx=\"16.03\" ry=\"16.03\"/>\n",
       "<text text-anchor=\"middle\" x=\"84.79\" y=\"-12.56\" font-family=\"Times New Roman,serif\" font-size=\"14.00\">8</text>\n",
       "</g>\n",
       "<!-- 7&#45;&gt;8 -->\n",
       "<g id=\"edge2\" class=\"edge\">\n",
       "<title>7&#45;&gt;8</title>\n",
       "<path fill=\"none\" stroke=\"black\" d=\"M31.7,-35.84C39.89,-32.76 50.36,-28.83 59.76,-25.29\"/>\n",
       "<polygon fill=\"black\" stroke=\"black\" points=\"61.25,-28.47 69.38,-21.68 58.79,-21.92 61.25,-28.47\"/>\n",
       "</g>\n",
       "</g>\n",
       "</svg>\n"
      ],
      "text/plain": [
       "<graphviz.graphs.Digraph at 0x21462599220>"
      ]
     },
     "execution_count": 10,
     "metadata": {},
     "output_type": "execute_result"
    }
   ],
   "source": [
    "#Plot the relationship diagram between t1 and t2: \n",
    "dot_12"
   ]
  },
  {
   "cell_type": "code",
   "execution_count": 11,
   "id": "fa413854",
   "metadata": {},
   "outputs": [],
   "source": [
    "#Repeat the above algorithm for t3 to t10, using for loop:\n",
    "\n",
    "for t in range(len(observe)-2):\n",
    "    \n",
    "    #A dictionary to store the possible Vt values:\n",
    "    globals()['t'+str(t+3)] = dict() \n",
    "    \n",
    "    #The relationship diagram of routes between timesteps: \n",
    "    globals()['dot_'+str(t+2)+str(t+3)] = Digraph(graph_attr={'rankdir':'LR'})\n",
    "    \n",
    "    #A dictionary to record the route between timesteps:\n",
    "    globals()['transition_'+str(t+2)+str(t+3)] = dict()\n",
    "        \n",
    "    for i in globals()['t'+str(t+2)].keys():\n",
    "       \n",
    "        for j in range(10):\n",
    "            if matrixA[i-1][j] !=0:\n",
    "                \n",
    "                #Calculate the accumulated probabilities among different Vt values with transition matrix & emission matrix \n",
    "                accu_prob = (globals()['t'+str(t+2)])[i]+(matrixA[i-1][j]*matrixB[j][(observe[t+2])-1])\n",
    "                if (j+1) not in globals()['t'+str(t+3)].keys():\n",
    "                    (globals()['t'+str(t+3)])[j+1] = accu_prob\n",
    "                    (globals()['transition_'+str(t+2)+str(t+3)])[j+1] = f'from{i}'\n",
    "                else:\n",
    "                    if (globals()['t'+str(t+3)])[j+1] < accu_prob:\n",
    "                    #Choose the route in which the accumulated probabilities have a maximum value    \n",
    "                        (globals()['t'+str(t+3)])[j+1] = accu_prob\n",
    "                        (globals()['transition_'+str(t+2)+str(t+3)])[j+1] = f'from{i}'\n",
    "                        \n",
    "    #Plot the relationship diagram:\n",
    "    for end,start in globals()['transition_'+str(t+2)+str(t+3)].items():\n",
    "        globals()['dot_'+str(t+2)+str(t+3)].node(start[-1],start[-1],**{'width':'0', 'height':'0'})\n",
    "        globals()['dot_'+str(t+2)+str(t+3)].node(f'{end}',f'{end}',**{'width':'0', 'height':'0'})\n",
    "        globals()['dot_'+str(t+2)+str(t+3)].edge(start[-1],f'{end}')\n",
    "        "
   ]
  },
  {
   "cell_type": "code",
   "execution_count": 12,
   "id": "df6689d3",
   "metadata": {},
   "outputs": [],
   "source": [
    "#The accumulated probabilities among different timesteps:\n",
    "accu_proba=[]\n",
    "for i in range(10):\n",
    "    accu_proba.append(globals()['t'+str(i+1)])"
   ]
  },
  {
   "cell_type": "code",
   "execution_count": 13,
   "id": "32da0ef7",
   "metadata": {},
   "outputs": [
    {
     "data": {
      "text/plain": [
       "[{7: 0.03333333333333333, 8: 0.03333333333333333, 9: 0.03333333333333333},\n",
       " {6: 0.19999999999999998, 8: 0.03333333333333333},\n",
       " {5: 0.36666666666666664, 7: 0.19999999999999998, 9: 0.03333333333333333},\n",
       " {4: 0.36666666666666664,\n",
       "  6: 0.5333333333333333,\n",
       "  8: 0.19999999999999998,\n",
       "  10: 0.03333333333333333},\n",
       " {3: 0.36666666666666664,\n",
       "  5: 0.7,\n",
       "  7: 0.5333333333333333,\n",
       "  9: 0.19999999999999998},\n",
       " {2: 0.36666666666666664,\n",
       "  4: 0.8666666666666666,\n",
       "  6: 0.7,\n",
       "  8: 0.5333333333333333,\n",
       "  10: 0.19999999999999998},\n",
       " {1: 0.36666666666666664,\n",
       "  3: 0.8666666666666666,\n",
       "  5: 1.0333333333333332,\n",
       "  7: 0.7,\n",
       "  9: 0.5333333333333333},\n",
       " {2: 0.8666666666666666, 4: 1.2, 6: 1.2, 8: 0.7, 10: 0.5333333333333333},\n",
       " {1: 0.8666666666666666, 3: 1.2, 5: 1.2, 7: 1.3666666666666667, 9: 0.7},\n",
       " {2: 1.2, 4: 1.2, 6: 1.3666666666666667, 8: 1.5333333333333334, 10: 0.95}]"
      ]
     },
     "execution_count": 13,
     "metadata": {},
     "output_type": "execute_result"
    }
   ],
   "source": [
    "accu_proba"
   ]
  },
  {
   "cell_type": "code",
   "execution_count": 14,
   "id": "44d9fed7",
   "metadata": {},
   "outputs": [
    {
     "name": "stdout",
     "output_type": "stream",
     "text": [
      "{6: 0.19999999999999998, 8: 0.03333333333333333}\n"
     ]
    },
    {
     "data": {
      "image/svg+xml": [
       "<?xml version=\"1.0\" encoding=\"UTF-8\" standalone=\"no\"?>\n",
       "<!DOCTYPE svg PUBLIC \"-//W3C//DTD SVG 1.1//EN\"\n",
       " \"http://www.w3.org/Graphics/SVG/1.1/DTD/svg11.dtd\">\n",
       "<!-- Generated by graphviz version 3.0.0 (20220226.1711)\n",
       " -->\n",
       "<!-- Pages: 1 -->\n",
       "<svg width=\"109pt\" height=\"92pt\"\n",
       " viewBox=\"0.00 0.00 109.05 91.53\" xmlns=\"http://www.w3.org/2000/svg\" xmlns:xlink=\"http://www.w3.org/1999/xlink\">\n",
       "<g id=\"graph0\" class=\"graph\" transform=\"scale(1 1) rotate(0) translate(4 87.53)\">\n",
       "<polygon fill=\"white\" stroke=\"transparent\" points=\"-4,4 -4,-87.53 105.05,-87.53 105.05,4 -4,4\"/>\n",
       "<!-- 7 -->\n",
       "<g id=\"node1\" class=\"node\">\n",
       "<title>7</title>\n",
       "<ellipse fill=\"none\" stroke=\"black\" cx=\"16.26\" cy=\"-41.26\" rx=\"16.03\" ry=\"16.03\"/>\n",
       "<text text-anchor=\"middle\" x=\"16.26\" y=\"-37.56\" font-family=\"Times New Roman,serif\" font-size=\"14.00\">7</text>\n",
       "</g>\n",
       "<!-- 6 -->\n",
       "<g id=\"node2\" class=\"node\">\n",
       "<title>6</title>\n",
       "<ellipse fill=\"none\" stroke=\"black\" cx=\"84.79\" cy=\"-67.26\" rx=\"16.03\" ry=\"16.03\"/>\n",
       "<text text-anchor=\"middle\" x=\"84.79\" y=\"-63.56\" font-family=\"Times New Roman,serif\" font-size=\"14.00\">6</text>\n",
       "</g>\n",
       "<!-- 7&#45;&gt;6 -->\n",
       "<g id=\"edge1\" class=\"edge\">\n",
       "<title>7&#45;&gt;6</title>\n",
       "<path fill=\"none\" stroke=\"black\" d=\"M31.7,-46.91C39.98,-50.14 50.58,-54.29 60.06,-57.99\"/>\n",
       "<polygon fill=\"black\" stroke=\"black\" points=\"58.8,-61.25 69.38,-61.63 61.34,-54.73 58.8,-61.25\"/>\n",
       "</g>\n",
       "<!-- 8 -->\n",
       "<g id=\"node3\" class=\"node\">\n",
       "<title>8</title>\n",
       "<ellipse fill=\"none\" stroke=\"black\" cx=\"84.79\" cy=\"-16.26\" rx=\"16.03\" ry=\"16.03\"/>\n",
       "<text text-anchor=\"middle\" x=\"84.79\" y=\"-12.56\" font-family=\"Times New Roman,serif\" font-size=\"14.00\">8</text>\n",
       "</g>\n",
       "<!-- 7&#45;&gt;8 -->\n",
       "<g id=\"edge2\" class=\"edge\">\n",
       "<title>7&#45;&gt;8</title>\n",
       "<path fill=\"none\" stroke=\"black\" d=\"M31.7,-35.84C39.89,-32.76 50.36,-28.83 59.76,-25.29\"/>\n",
       "<polygon fill=\"black\" stroke=\"black\" points=\"61.25,-28.47 69.38,-21.68 58.79,-21.92 61.25,-28.47\"/>\n",
       "</g>\n",
       "</g>\n",
       "</svg>\n"
      ],
      "text/plain": [
       "<graphviz.graphs.Digraph at 0x28e84829e20>"
      ]
     },
     "execution_count": 14,
     "metadata": {},
     "output_type": "execute_result"
    }
   ],
   "source": [
    "print(t2)\n",
    "dot_12"
   ]
  },
  {
   "cell_type": "code",
   "execution_count": 15,
   "id": "34853b99",
   "metadata": {},
   "outputs": [
    {
     "name": "stdout",
     "output_type": "stream",
     "text": [
      "{5: 0.36666666666666664, 7: 0.19999999999999998, 9: 0.03333333333333333}\n"
     ]
    },
    {
     "data": {
      "image/svg+xml": [
       "<?xml version=\"1.0\" encoding=\"UTF-8\" standalone=\"no\"?>\n",
       "<!DOCTYPE svg PUBLIC \"-//W3C//DTD SVG 1.1//EN\"\n",
       " \"http://www.w3.org/Graphics/SVG/1.1/DTD/svg11.dtd\">\n",
       "<!-- Generated by graphviz version 3.0.0 (20220226.1711)\n",
       " -->\n",
       "<!-- Pages: 1 -->\n",
       "<svg width=\"109pt\" height=\"143pt\"\n",
       " viewBox=\"0.00 0.00 109.05 142.53\" xmlns=\"http://www.w3.org/2000/svg\" xmlns:xlink=\"http://www.w3.org/1999/xlink\">\n",
       "<g id=\"graph0\" class=\"graph\" transform=\"scale(1 1) rotate(0) translate(4 138.53)\">\n",
       "<polygon fill=\"white\" stroke=\"transparent\" points=\"-4,4 -4,-138.53 105.05,-138.53 105.05,4 -4,4\"/>\n",
       "<!-- 6 -->\n",
       "<g id=\"node1\" class=\"node\">\n",
       "<title>6</title>\n",
       "<ellipse fill=\"none\" stroke=\"black\" cx=\"16.26\" cy=\"-42.26\" rx=\"16.03\" ry=\"16.03\"/>\n",
       "<text text-anchor=\"middle\" x=\"16.26\" y=\"-38.56\" font-family=\"Times New Roman,serif\" font-size=\"14.00\">6</text>\n",
       "</g>\n",
       "<!-- 5 -->\n",
       "<g id=\"node2\" class=\"node\">\n",
       "<title>5</title>\n",
       "<ellipse fill=\"none\" stroke=\"black\" cx=\"84.79\" cy=\"-67.26\" rx=\"16.03\" ry=\"16.03\"/>\n",
       "<text text-anchor=\"middle\" x=\"84.79\" y=\"-63.56\" font-family=\"Times New Roman,serif\" font-size=\"14.00\">5</text>\n",
       "</g>\n",
       "<!-- 6&#45;&gt;5 -->\n",
       "<g id=\"edge1\" class=\"edge\">\n",
       "<title>6&#45;&gt;5</title>\n",
       "<path fill=\"none\" stroke=\"black\" d=\"M31.7,-47.69C39.89,-50.77 50.36,-54.7 59.76,-58.23\"/>\n",
       "<polygon fill=\"black\" stroke=\"black\" points=\"58.79,-61.61 69.38,-61.85 61.25,-55.06 58.79,-61.61\"/>\n",
       "</g>\n",
       "<!-- 7 -->\n",
       "<g id=\"node3\" class=\"node\">\n",
       "<title>7</title>\n",
       "<ellipse fill=\"none\" stroke=\"black\" cx=\"84.79\" cy=\"-16.26\" rx=\"16.03\" ry=\"16.03\"/>\n",
       "<text text-anchor=\"middle\" x=\"84.79\" y=\"-12.56\" font-family=\"Times New Roman,serif\" font-size=\"14.00\">7</text>\n",
       "</g>\n",
       "<!-- 6&#45;&gt;7 -->\n",
       "<g id=\"edge2\" class=\"edge\">\n",
       "<title>6&#45;&gt;7</title>\n",
       "<path fill=\"none\" stroke=\"black\" d=\"M31.7,-36.62C39.98,-33.39 50.58,-29.24 60.06,-25.54\"/>\n",
       "<polygon fill=\"black\" stroke=\"black\" points=\"61.34,-28.79 69.38,-21.89 58.8,-22.27 61.34,-28.79\"/>\n",
       "</g>\n",
       "<!-- 8 -->\n",
       "<g id=\"node4\" class=\"node\">\n",
       "<title>8</title>\n",
       "<ellipse fill=\"none\" stroke=\"black\" cx=\"16.26\" cy=\"-118.26\" rx=\"16.03\" ry=\"16.03\"/>\n",
       "<text text-anchor=\"middle\" x=\"16.26\" y=\"-114.56\" font-family=\"Times New Roman,serif\" font-size=\"14.00\">8</text>\n",
       "</g>\n",
       "<!-- 9 -->\n",
       "<g id=\"node5\" class=\"node\">\n",
       "<title>9</title>\n",
       "<ellipse fill=\"none\" stroke=\"black\" cx=\"84.79\" cy=\"-118.26\" rx=\"16.03\" ry=\"16.03\"/>\n",
       "<text text-anchor=\"middle\" x=\"84.79\" y=\"-114.56\" font-family=\"Times New Roman,serif\" font-size=\"14.00\">9</text>\n",
       "</g>\n",
       "<!-- 8&#45;&gt;9 -->\n",
       "<g id=\"edge3\" class=\"edge\">\n",
       "<title>8&#45;&gt;9</title>\n",
       "<path fill=\"none\" stroke=\"black\" d=\"M32.69,-118.26C40.33,-118.26 49.76,-118.26 58.42,-118.26\"/>\n",
       "<polygon fill=\"black\" stroke=\"black\" points=\"58.44,-121.76 68.44,-118.26 58.44,-114.76 58.44,-121.76\"/>\n",
       "</g>\n",
       "</g>\n",
       "</svg>\n"
      ],
      "text/plain": [
       "<graphviz.graphs.Digraph at 0x28e8483c5e0>"
      ]
     },
     "execution_count": 15,
     "metadata": {},
     "output_type": "execute_result"
    }
   ],
   "source": [
    "print(t3)\n",
    "dot_23"
   ]
  },
  {
   "cell_type": "code",
   "execution_count": 16,
   "id": "6b8b5e52",
   "metadata": {},
   "outputs": [
    {
     "name": "stdout",
     "output_type": "stream",
     "text": [
      "{4: 0.36666666666666664, 6: 0.5333333333333333, 8: 0.19999999999999998, 10: 0.03333333333333333}\n"
     ]
    },
    {
     "data": {
      "image/svg+xml": [
       "<?xml version=\"1.0\" encoding=\"UTF-8\" standalone=\"no\"?>\n",
       "<!DOCTYPE svg PUBLIC \"-//W3C//DTD SVG 1.1//EN\"\n",
       " \"http://www.w3.org/Graphics/SVG/1.1/DTD/svg11.dtd\">\n",
       "<!-- Generated by graphviz version 3.0.0 (20220226.1711)\n",
       " -->\n",
       "<!-- Pages: 1 -->\n",
       "<svg width=\"119pt\" height=\"194pt\"\n",
       " viewBox=\"0.00 0.00 118.95 193.53\" xmlns=\"http://www.w3.org/2000/svg\" xmlns:xlink=\"http://www.w3.org/1999/xlink\">\n",
       "<g id=\"graph0\" class=\"graph\" transform=\"scale(1 1) rotate(0) translate(4 189.53)\">\n",
       "<polygon fill=\"white\" stroke=\"transparent\" points=\"-4,4 -4,-189.53 114.95,-189.53 114.95,4 -4,4\"/>\n",
       "<!-- 5 -->\n",
       "<g id=\"node1\" class=\"node\">\n",
       "<title>5</title>\n",
       "<ellipse fill=\"none\" stroke=\"black\" cx=\"16.26\" cy=\"-42.26\" rx=\"16.03\" ry=\"16.03\"/>\n",
       "<text text-anchor=\"middle\" x=\"16.26\" y=\"-38.56\" font-family=\"Times New Roman,serif\" font-size=\"14.00\">5</text>\n",
       "</g>\n",
       "<!-- 4 -->\n",
       "<g id=\"node2\" class=\"node\">\n",
       "<title>4</title>\n",
       "<ellipse fill=\"none\" stroke=\"black\" cx=\"89.74\" cy=\"-67.26\" rx=\"16.03\" ry=\"16.03\"/>\n",
       "<text text-anchor=\"middle\" x=\"89.74\" y=\"-63.56\" font-family=\"Times New Roman,serif\" font-size=\"14.00\">4</text>\n",
       "</g>\n",
       "<!-- 5&#45;&gt;4 -->\n",
       "<g id=\"edge1\" class=\"edge\">\n",
       "<title>5&#45;&gt;4</title>\n",
       "<path fill=\"none\" stroke=\"black\" d=\"M31.73,-47.32C41,-50.57 53.28,-54.86 64.07,-58.63\"/>\n",
       "<polygon fill=\"black\" stroke=\"black\" points=\"63.21,-62.04 73.81,-62.04 65.52,-55.43 63.21,-62.04\"/>\n",
       "</g>\n",
       "<!-- 6 -->\n",
       "<g id=\"node3\" class=\"node\">\n",
       "<title>6</title>\n",
       "<ellipse fill=\"none\" stroke=\"black\" cx=\"89.74\" cy=\"-16.26\" rx=\"16.03\" ry=\"16.03\"/>\n",
       "<text text-anchor=\"middle\" x=\"89.74\" y=\"-12.56\" font-family=\"Times New Roman,serif\" font-size=\"14.00\">6</text>\n",
       "</g>\n",
       "<!-- 5&#45;&gt;6 -->\n",
       "<g id=\"edge2\" class=\"edge\">\n",
       "<title>5&#45;&gt;6</title>\n",
       "<path fill=\"none\" stroke=\"black\" d=\"M31.73,-37C41.22,-33.55 53.87,-28.95 64.83,-24.96\"/>\n",
       "<polygon fill=\"black\" stroke=\"black\" points=\"66.1,-28.22 74.3,-21.52 63.7,-21.65 66.1,-28.22\"/>\n",
       "</g>\n",
       "<!-- 7 -->\n",
       "<g id=\"node4\" class=\"node\">\n",
       "<title>7</title>\n",
       "<ellipse fill=\"none\" stroke=\"black\" cx=\"16.26\" cy=\"-118.26\" rx=\"16.03\" ry=\"16.03\"/>\n",
       "<text text-anchor=\"middle\" x=\"16.26\" y=\"-114.56\" font-family=\"Times New Roman,serif\" font-size=\"14.00\">7</text>\n",
       "</g>\n",
       "<!-- 8 -->\n",
       "<g id=\"node5\" class=\"node\">\n",
       "<title>8</title>\n",
       "<ellipse fill=\"none\" stroke=\"black\" cx=\"89.74\" cy=\"-118.26\" rx=\"16.03\" ry=\"16.03\"/>\n",
       "<text text-anchor=\"middle\" x=\"89.74\" y=\"-114.56\" font-family=\"Times New Roman,serif\" font-size=\"14.00\">8</text>\n",
       "</g>\n",
       "<!-- 7&#45;&gt;8 -->\n",
       "<g id=\"edge3\" class=\"edge\">\n",
       "<title>7&#45;&gt;8</title>\n",
       "<path fill=\"none\" stroke=\"black\" d=\"M32.77,-118.26C41.67,-118.26 53.06,-118.26 63.24,-118.26\"/>\n",
       "<polygon fill=\"black\" stroke=\"black\" points=\"63.26,-121.76 73.26,-118.26 63.26,-114.76 63.26,-121.76\"/>\n",
       "</g>\n",
       "<!-- 9 -->\n",
       "<g id=\"node6\" class=\"node\">\n",
       "<title>9</title>\n",
       "<ellipse fill=\"none\" stroke=\"black\" cx=\"16.26\" cy=\"-169.26\" rx=\"16.03\" ry=\"16.03\"/>\n",
       "<text text-anchor=\"middle\" x=\"16.26\" y=\"-165.56\" font-family=\"Times New Roman,serif\" font-size=\"14.00\">9</text>\n",
       "</g>\n",
       "<!-- 10 -->\n",
       "<g id=\"node7\" class=\"node\">\n",
       "<title>10</title>\n",
       "<ellipse fill=\"none\" stroke=\"black\" cx=\"89.74\" cy=\"-169.26\" rx=\"21.43\" ry=\"16.03\"/>\n",
       "<text text-anchor=\"middle\" x=\"89.74\" y=\"-165.56\" font-family=\"Times New Roman,serif\" font-size=\"14.00\">10</text>\n",
       "</g>\n",
       "<!-- 9&#45;&gt;10 -->\n",
       "<g id=\"edge4\" class=\"edge\">\n",
       "<title>9&#45;&gt;10</title>\n",
       "<path fill=\"none\" stroke=\"black\" d=\"M32.77,-169.26C40.27,-169.26 49.53,-169.26 58.36,-169.26\"/>\n",
       "<polygon fill=\"black\" stroke=\"black\" points=\"58.37,-172.76 68.37,-169.26 58.37,-165.76 58.37,-172.76\"/>\n",
       "</g>\n",
       "</g>\n",
       "</svg>\n"
      ],
      "text/plain": [
       "<graphviz.graphs.Digraph at 0x28e8483cd00>"
      ]
     },
     "execution_count": 16,
     "metadata": {},
     "output_type": "execute_result"
    }
   ],
   "source": [
    "print(t4)\n",
    "dot_34"
   ]
  },
  {
   "cell_type": "code",
   "execution_count": 17,
   "id": "b10b359a",
   "metadata": {},
   "outputs": [
    {
     "name": "stdout",
     "output_type": "stream",
     "text": [
      "{3: 0.36666666666666664, 5: 0.7, 7: 0.5333333333333333, 9: 0.19999999999999998}\n"
     ]
    },
    {
     "data": {
      "image/svg+xml": [
       "<?xml version=\"1.0\" encoding=\"UTF-8\" standalone=\"no\"?>\n",
       "<!DOCTYPE svg PUBLIC \"-//W3C//DTD SVG 1.1//EN\"\n",
       " \"http://www.w3.org/Graphics/SVG/1.1/DTD/svg11.dtd\">\n",
       "<!-- Generated by graphviz version 3.0.0 (20220226.1711)\n",
       " -->\n",
       "<!-- Pages: 1 -->\n",
       "<svg width=\"109pt\" height=\"194pt\"\n",
       " viewBox=\"0.00 0.00 109.05 193.53\" xmlns=\"http://www.w3.org/2000/svg\" xmlns:xlink=\"http://www.w3.org/1999/xlink\">\n",
       "<g id=\"graph0\" class=\"graph\" transform=\"scale(1 1) rotate(0) translate(4 189.53)\">\n",
       "<polygon fill=\"white\" stroke=\"transparent\" points=\"-4,4 -4,-189.53 105.05,-189.53 105.05,4 -4,4\"/>\n",
       "<!-- 4 -->\n",
       "<g id=\"node1\" class=\"node\">\n",
       "<title>4</title>\n",
       "<ellipse fill=\"none\" stroke=\"black\" cx=\"16.26\" cy=\"-16.26\" rx=\"16.03\" ry=\"16.03\"/>\n",
       "<text text-anchor=\"middle\" x=\"16.26\" y=\"-12.56\" font-family=\"Times New Roman,serif\" font-size=\"14.00\">4</text>\n",
       "</g>\n",
       "<!-- 3 -->\n",
       "<g id=\"node2\" class=\"node\">\n",
       "<title>3</title>\n",
       "<ellipse fill=\"none\" stroke=\"black\" cx=\"84.79\" cy=\"-16.26\" rx=\"16.03\" ry=\"16.03\"/>\n",
       "<text text-anchor=\"middle\" x=\"84.79\" y=\"-12.56\" font-family=\"Times New Roman,serif\" font-size=\"14.00\">3</text>\n",
       "</g>\n",
       "<!-- 4&#45;&gt;3 -->\n",
       "<g id=\"edge1\" class=\"edge\">\n",
       "<title>4&#45;&gt;3</title>\n",
       "<path fill=\"none\" stroke=\"black\" d=\"M32.69,-16.26C40.33,-16.26 49.76,-16.26 58.42,-16.26\"/>\n",
       "<polygon fill=\"black\" stroke=\"black\" points=\"58.44,-19.76 68.44,-16.26 58.44,-12.76 58.44,-19.76\"/>\n",
       "</g>\n",
       "<!-- 6 -->\n",
       "<g id=\"node3\" class=\"node\">\n",
       "<title>6</title>\n",
       "<ellipse fill=\"none\" stroke=\"black\" cx=\"16.26\" cy=\"-93.26\" rx=\"16.03\" ry=\"16.03\"/>\n",
       "<text text-anchor=\"middle\" x=\"16.26\" y=\"-89.56\" font-family=\"Times New Roman,serif\" font-size=\"14.00\">6</text>\n",
       "</g>\n",
       "<!-- 5 -->\n",
       "<g id=\"node4\" class=\"node\">\n",
       "<title>5</title>\n",
       "<ellipse fill=\"none\" stroke=\"black\" cx=\"84.79\" cy=\"-118.26\" rx=\"16.03\" ry=\"16.03\"/>\n",
       "<text text-anchor=\"middle\" x=\"84.79\" y=\"-114.56\" font-family=\"Times New Roman,serif\" font-size=\"14.00\">5</text>\n",
       "</g>\n",
       "<!-- 6&#45;&gt;5 -->\n",
       "<g id=\"edge2\" class=\"edge\">\n",
       "<title>6&#45;&gt;5</title>\n",
       "<path fill=\"none\" stroke=\"black\" d=\"M31.7,-98.69C39.89,-101.77 50.36,-105.7 59.76,-109.23\"/>\n",
       "<polygon fill=\"black\" stroke=\"black\" points=\"58.79,-112.61 69.38,-112.85 61.25,-106.06 58.79,-112.61\"/>\n",
       "</g>\n",
       "<!-- 7 -->\n",
       "<g id=\"node5\" class=\"node\">\n",
       "<title>7</title>\n",
       "<ellipse fill=\"none\" stroke=\"black\" cx=\"84.79\" cy=\"-67.26\" rx=\"16.03\" ry=\"16.03\"/>\n",
       "<text text-anchor=\"middle\" x=\"84.79\" y=\"-63.56\" font-family=\"Times New Roman,serif\" font-size=\"14.00\">7</text>\n",
       "</g>\n",
       "<!-- 6&#45;&gt;7 -->\n",
       "<g id=\"edge3\" class=\"edge\">\n",
       "<title>6&#45;&gt;7</title>\n",
       "<path fill=\"none\" stroke=\"black\" d=\"M31.7,-87.62C39.98,-84.39 50.58,-80.24 60.06,-76.54\"/>\n",
       "<polygon fill=\"black\" stroke=\"black\" points=\"61.34,-79.79 69.38,-72.89 58.8,-73.27 61.34,-79.79\"/>\n",
       "</g>\n",
       "<!-- 8 -->\n",
       "<g id=\"node6\" class=\"node\">\n",
       "<title>8</title>\n",
       "<ellipse fill=\"none\" stroke=\"black\" cx=\"16.26\" cy=\"-169.26\" rx=\"16.03\" ry=\"16.03\"/>\n",
       "<text text-anchor=\"middle\" x=\"16.26\" y=\"-165.56\" font-family=\"Times New Roman,serif\" font-size=\"14.00\">8</text>\n",
       "</g>\n",
       "<!-- 9 -->\n",
       "<g id=\"node7\" class=\"node\">\n",
       "<title>9</title>\n",
       "<ellipse fill=\"none\" stroke=\"black\" cx=\"84.79\" cy=\"-169.26\" rx=\"16.03\" ry=\"16.03\"/>\n",
       "<text text-anchor=\"middle\" x=\"84.79\" y=\"-165.56\" font-family=\"Times New Roman,serif\" font-size=\"14.00\">9</text>\n",
       "</g>\n",
       "<!-- 8&#45;&gt;9 -->\n",
       "<g id=\"edge4\" class=\"edge\">\n",
       "<title>8&#45;&gt;9</title>\n",
       "<path fill=\"none\" stroke=\"black\" d=\"M32.69,-169.26C40.33,-169.26 49.76,-169.26 58.42,-169.26\"/>\n",
       "<polygon fill=\"black\" stroke=\"black\" points=\"58.44,-172.76 68.44,-169.26 58.44,-165.76 58.44,-172.76\"/>\n",
       "</g>\n",
       "</g>\n",
       "</svg>\n"
      ],
      "text/plain": [
       "<graphviz.graphs.Digraph at 0x28e8483cbb0>"
      ]
     },
     "execution_count": 17,
     "metadata": {},
     "output_type": "execute_result"
    }
   ],
   "source": [
    "print(t5)\n",
    "dot_45"
   ]
  },
  {
   "cell_type": "code",
   "execution_count": 18,
   "id": "2684703d",
   "metadata": {},
   "outputs": [
    {
     "name": "stdout",
     "output_type": "stream",
     "text": [
      "{2: 0.36666666666666664, 4: 0.8666666666666666, 6: 0.7, 8: 0.5333333333333333, 10: 0.19999999999999998}\n"
     ]
    },
    {
     "data": {
      "image/svg+xml": [
       "<?xml version=\"1.0\" encoding=\"UTF-8\" standalone=\"no\"?>\n",
       "<!DOCTYPE svg PUBLIC \"-//W3C//DTD SVG 1.1//EN\"\n",
       " \"http://www.w3.org/Graphics/SVG/1.1/DTD/svg11.dtd\">\n",
       "<!-- Generated by graphviz version 3.0.0 (20220226.1711)\n",
       " -->\n",
       "<!-- Pages: 1 -->\n",
       "<svg width=\"119pt\" height=\"245pt\"\n",
       " viewBox=\"0.00 0.00 118.95 244.53\" xmlns=\"http://www.w3.org/2000/svg\" xmlns:xlink=\"http://www.w3.org/1999/xlink\">\n",
       "<g id=\"graph0\" class=\"graph\" transform=\"scale(1 1) rotate(0) translate(4 240.53)\">\n",
       "<polygon fill=\"white\" stroke=\"transparent\" points=\"-4,4 -4,-240.53 114.95,-240.53 114.95,4 -4,4\"/>\n",
       "<!-- 3 -->\n",
       "<g id=\"node1\" class=\"node\">\n",
       "<title>3</title>\n",
       "<ellipse fill=\"none\" stroke=\"black\" cx=\"16.26\" cy=\"-16.26\" rx=\"16.03\" ry=\"16.03\"/>\n",
       "<text text-anchor=\"middle\" x=\"16.26\" y=\"-12.56\" font-family=\"Times New Roman,serif\" font-size=\"14.00\">3</text>\n",
       "</g>\n",
       "<!-- 2 -->\n",
       "<g id=\"node2\" class=\"node\">\n",
       "<title>2</title>\n",
       "<ellipse fill=\"none\" stroke=\"black\" cx=\"89.74\" cy=\"-16.26\" rx=\"16.03\" ry=\"16.03\"/>\n",
       "<text text-anchor=\"middle\" x=\"89.74\" y=\"-12.56\" font-family=\"Times New Roman,serif\" font-size=\"14.00\">2</text>\n",
       "</g>\n",
       "<!-- 3&#45;&gt;2 -->\n",
       "<g id=\"edge1\" class=\"edge\">\n",
       "<title>3&#45;&gt;2</title>\n",
       "<path fill=\"none\" stroke=\"black\" d=\"M32.77,-16.26C41.67,-16.26 53.06,-16.26 63.24,-16.26\"/>\n",
       "<polygon fill=\"black\" stroke=\"black\" points=\"63.26,-19.76 73.26,-16.26 63.26,-12.76 63.26,-19.76\"/>\n",
       "</g>\n",
       "<!-- 5 -->\n",
       "<g id=\"node3\" class=\"node\">\n",
       "<title>5</title>\n",
       "<ellipse fill=\"none\" stroke=\"black\" cx=\"16.26\" cy=\"-93.26\" rx=\"16.03\" ry=\"16.03\"/>\n",
       "<text text-anchor=\"middle\" x=\"16.26\" y=\"-89.56\" font-family=\"Times New Roman,serif\" font-size=\"14.00\">5</text>\n",
       "</g>\n",
       "<!-- 4 -->\n",
       "<g id=\"node4\" class=\"node\">\n",
       "<title>4</title>\n",
       "<ellipse fill=\"none\" stroke=\"black\" cx=\"89.74\" cy=\"-118.26\" rx=\"16.03\" ry=\"16.03\"/>\n",
       "<text text-anchor=\"middle\" x=\"89.74\" y=\"-114.56\" font-family=\"Times New Roman,serif\" font-size=\"14.00\">4</text>\n",
       "</g>\n",
       "<!-- 5&#45;&gt;4 -->\n",
       "<g id=\"edge2\" class=\"edge\">\n",
       "<title>5&#45;&gt;4</title>\n",
       "<path fill=\"none\" stroke=\"black\" d=\"M31.73,-98.32C41,-101.57 53.28,-105.86 64.07,-109.63\"/>\n",
       "<polygon fill=\"black\" stroke=\"black\" points=\"63.21,-113.04 73.81,-113.04 65.52,-106.43 63.21,-113.04\"/>\n",
       "</g>\n",
       "<!-- 6 -->\n",
       "<g id=\"node5\" class=\"node\">\n",
       "<title>6</title>\n",
       "<ellipse fill=\"none\" stroke=\"black\" cx=\"89.74\" cy=\"-67.26\" rx=\"16.03\" ry=\"16.03\"/>\n",
       "<text text-anchor=\"middle\" x=\"89.74\" y=\"-63.56\" font-family=\"Times New Roman,serif\" font-size=\"14.00\">6</text>\n",
       "</g>\n",
       "<!-- 5&#45;&gt;6 -->\n",
       "<g id=\"edge3\" class=\"edge\">\n",
       "<title>5&#45;&gt;6</title>\n",
       "<path fill=\"none\" stroke=\"black\" d=\"M31.73,-88C41.22,-84.55 53.87,-79.95 64.83,-75.96\"/>\n",
       "<polygon fill=\"black\" stroke=\"black\" points=\"66.1,-79.22 74.3,-72.52 63.7,-72.65 66.1,-79.22\"/>\n",
       "</g>\n",
       "<!-- 7 -->\n",
       "<g id=\"node6\" class=\"node\">\n",
       "<title>7</title>\n",
       "<ellipse fill=\"none\" stroke=\"black\" cx=\"16.26\" cy=\"-169.26\" rx=\"16.03\" ry=\"16.03\"/>\n",
       "<text text-anchor=\"middle\" x=\"16.26\" y=\"-165.56\" font-family=\"Times New Roman,serif\" font-size=\"14.00\">7</text>\n",
       "</g>\n",
       "<!-- 8 -->\n",
       "<g id=\"node7\" class=\"node\">\n",
       "<title>8</title>\n",
       "<ellipse fill=\"none\" stroke=\"black\" cx=\"89.74\" cy=\"-169.26\" rx=\"16.03\" ry=\"16.03\"/>\n",
       "<text text-anchor=\"middle\" x=\"89.74\" y=\"-165.56\" font-family=\"Times New Roman,serif\" font-size=\"14.00\">8</text>\n",
       "</g>\n",
       "<!-- 7&#45;&gt;8 -->\n",
       "<g id=\"edge4\" class=\"edge\">\n",
       "<title>7&#45;&gt;8</title>\n",
       "<path fill=\"none\" stroke=\"black\" d=\"M32.77,-169.26C41.67,-169.26 53.06,-169.26 63.24,-169.26\"/>\n",
       "<polygon fill=\"black\" stroke=\"black\" points=\"63.26,-172.76 73.26,-169.26 63.26,-165.76 63.26,-172.76\"/>\n",
       "</g>\n",
       "<!-- 9 -->\n",
       "<g id=\"node8\" class=\"node\">\n",
       "<title>9</title>\n",
       "<ellipse fill=\"none\" stroke=\"black\" cx=\"16.26\" cy=\"-220.26\" rx=\"16.03\" ry=\"16.03\"/>\n",
       "<text text-anchor=\"middle\" x=\"16.26\" y=\"-216.56\" font-family=\"Times New Roman,serif\" font-size=\"14.00\">9</text>\n",
       "</g>\n",
       "<!-- 10 -->\n",
       "<g id=\"node9\" class=\"node\">\n",
       "<title>10</title>\n",
       "<ellipse fill=\"none\" stroke=\"black\" cx=\"89.74\" cy=\"-220.26\" rx=\"21.43\" ry=\"16.03\"/>\n",
       "<text text-anchor=\"middle\" x=\"89.74\" y=\"-216.56\" font-family=\"Times New Roman,serif\" font-size=\"14.00\">10</text>\n",
       "</g>\n",
       "<!-- 9&#45;&gt;10 -->\n",
       "<g id=\"edge5\" class=\"edge\">\n",
       "<title>9&#45;&gt;10</title>\n",
       "<path fill=\"none\" stroke=\"black\" d=\"M32.77,-220.26C40.27,-220.26 49.53,-220.26 58.36,-220.26\"/>\n",
       "<polygon fill=\"black\" stroke=\"black\" points=\"58.37,-223.76 68.37,-220.26 58.37,-216.76 58.37,-223.76\"/>\n",
       "</g>\n",
       "</g>\n",
       "</svg>\n"
      ],
      "text/plain": [
       "<graphviz.graphs.Digraph at 0x28e8483c880>"
      ]
     },
     "execution_count": 18,
     "metadata": {},
     "output_type": "execute_result"
    }
   ],
   "source": [
    "print(t6)\n",
    "dot_56"
   ]
  },
  {
   "cell_type": "code",
   "execution_count": 19,
   "id": "73548758",
   "metadata": {},
   "outputs": [
    {
     "name": "stdout",
     "output_type": "stream",
     "text": [
      "{1: 0.36666666666666664, 3: 0.8666666666666666, 5: 1.0333333333333332, 7: 0.7, 9: 0.5333333333333333}\n"
     ]
    },
    {
     "data": {
      "image/svg+xml": [
       "<?xml version=\"1.0\" encoding=\"UTF-8\" standalone=\"no\"?>\n",
       "<!DOCTYPE svg PUBLIC \"-//W3C//DTD SVG 1.1//EN\"\n",
       " \"http://www.w3.org/Graphics/SVG/1.1/DTD/svg11.dtd\">\n",
       "<!-- Generated by graphviz version 3.0.0 (20220226.1711)\n",
       " -->\n",
       "<!-- Pages: 1 -->\n",
       "<svg width=\"109pt\" height=\"245pt\"\n",
       " viewBox=\"0.00 0.00 109.05 244.53\" xmlns=\"http://www.w3.org/2000/svg\" xmlns:xlink=\"http://www.w3.org/1999/xlink\">\n",
       "<g id=\"graph0\" class=\"graph\" transform=\"scale(1 1) rotate(0) translate(4 240.53)\">\n",
       "<polygon fill=\"white\" stroke=\"transparent\" points=\"-4,4 -4,-240.53 105.05,-240.53 105.05,4 -4,4\"/>\n",
       "<!-- 2 -->\n",
       "<g id=\"node1\" class=\"node\">\n",
       "<title>2</title>\n",
       "<ellipse fill=\"none\" stroke=\"black\" cx=\"16.26\" cy=\"-16.26\" rx=\"16.03\" ry=\"16.03\"/>\n",
       "<text text-anchor=\"middle\" x=\"16.26\" y=\"-12.56\" font-family=\"Times New Roman,serif\" font-size=\"14.00\">2</text>\n",
       "</g>\n",
       "<!-- 1 -->\n",
       "<g id=\"node2\" class=\"node\">\n",
       "<title>1</title>\n",
       "<ellipse fill=\"none\" stroke=\"black\" cx=\"84.79\" cy=\"-16.26\" rx=\"16.03\" ry=\"16.03\"/>\n",
       "<text text-anchor=\"middle\" x=\"84.79\" y=\"-12.56\" font-family=\"Times New Roman,serif\" font-size=\"14.00\">1</text>\n",
       "</g>\n",
       "<!-- 2&#45;&gt;1 -->\n",
       "<g id=\"edge1\" class=\"edge\">\n",
       "<title>2&#45;&gt;1</title>\n",
       "<path fill=\"none\" stroke=\"black\" d=\"M32.69,-16.26C40.33,-16.26 49.76,-16.26 58.42,-16.26\"/>\n",
       "<polygon fill=\"black\" stroke=\"black\" points=\"58.44,-19.76 68.44,-16.26 58.44,-12.76 58.44,-19.76\"/>\n",
       "</g>\n",
       "<!-- 4 -->\n",
       "<g id=\"node3\" class=\"node\">\n",
       "<title>4</title>\n",
       "<ellipse fill=\"none\" stroke=\"black\" cx=\"16.26\" cy=\"-93.26\" rx=\"16.03\" ry=\"16.03\"/>\n",
       "<text text-anchor=\"middle\" x=\"16.26\" y=\"-89.56\" font-family=\"Times New Roman,serif\" font-size=\"14.00\">4</text>\n",
       "</g>\n",
       "<!-- 3 -->\n",
       "<g id=\"node4\" class=\"node\">\n",
       "<title>3</title>\n",
       "<ellipse fill=\"none\" stroke=\"black\" cx=\"84.79\" cy=\"-118.26\" rx=\"16.03\" ry=\"16.03\"/>\n",
       "<text text-anchor=\"middle\" x=\"84.79\" y=\"-114.56\" font-family=\"Times New Roman,serif\" font-size=\"14.00\">3</text>\n",
       "</g>\n",
       "<!-- 4&#45;&gt;3 -->\n",
       "<g id=\"edge2\" class=\"edge\">\n",
       "<title>4&#45;&gt;3</title>\n",
       "<path fill=\"none\" stroke=\"black\" d=\"M31.7,-98.69C39.89,-101.77 50.36,-105.7 59.76,-109.23\"/>\n",
       "<polygon fill=\"black\" stroke=\"black\" points=\"58.79,-112.61 69.38,-112.85 61.25,-106.06 58.79,-112.61\"/>\n",
       "</g>\n",
       "<!-- 5 -->\n",
       "<g id=\"node5\" class=\"node\">\n",
       "<title>5</title>\n",
       "<ellipse fill=\"none\" stroke=\"black\" cx=\"84.79\" cy=\"-67.26\" rx=\"16.03\" ry=\"16.03\"/>\n",
       "<text text-anchor=\"middle\" x=\"84.79\" y=\"-63.56\" font-family=\"Times New Roman,serif\" font-size=\"14.00\">5</text>\n",
       "</g>\n",
       "<!-- 4&#45;&gt;5 -->\n",
       "<g id=\"edge3\" class=\"edge\">\n",
       "<title>4&#45;&gt;5</title>\n",
       "<path fill=\"none\" stroke=\"black\" d=\"M31.7,-87.62C39.98,-84.39 50.58,-80.24 60.06,-76.54\"/>\n",
       "<polygon fill=\"black\" stroke=\"black\" points=\"61.34,-79.79 69.38,-72.89 58.8,-73.27 61.34,-79.79\"/>\n",
       "</g>\n",
       "<!-- 6 -->\n",
       "<g id=\"node6\" class=\"node\">\n",
       "<title>6</title>\n",
       "<ellipse fill=\"none\" stroke=\"black\" cx=\"16.26\" cy=\"-169.26\" rx=\"16.03\" ry=\"16.03\"/>\n",
       "<text text-anchor=\"middle\" x=\"16.26\" y=\"-165.56\" font-family=\"Times New Roman,serif\" font-size=\"14.00\">6</text>\n",
       "</g>\n",
       "<!-- 7 -->\n",
       "<g id=\"node7\" class=\"node\">\n",
       "<title>7</title>\n",
       "<ellipse fill=\"none\" stroke=\"black\" cx=\"84.79\" cy=\"-169.26\" rx=\"16.03\" ry=\"16.03\"/>\n",
       "<text text-anchor=\"middle\" x=\"84.79\" y=\"-165.56\" font-family=\"Times New Roman,serif\" font-size=\"14.00\">7</text>\n",
       "</g>\n",
       "<!-- 6&#45;&gt;7 -->\n",
       "<g id=\"edge4\" class=\"edge\">\n",
       "<title>6&#45;&gt;7</title>\n",
       "<path fill=\"none\" stroke=\"black\" d=\"M32.69,-169.26C40.33,-169.26 49.76,-169.26 58.42,-169.26\"/>\n",
       "<polygon fill=\"black\" stroke=\"black\" points=\"58.44,-172.76 68.44,-169.26 58.44,-165.76 58.44,-172.76\"/>\n",
       "</g>\n",
       "<!-- 8 -->\n",
       "<g id=\"node8\" class=\"node\">\n",
       "<title>8</title>\n",
       "<ellipse fill=\"none\" stroke=\"black\" cx=\"16.26\" cy=\"-220.26\" rx=\"16.03\" ry=\"16.03\"/>\n",
       "<text text-anchor=\"middle\" x=\"16.26\" y=\"-216.56\" font-family=\"Times New Roman,serif\" font-size=\"14.00\">8</text>\n",
       "</g>\n",
       "<!-- 9 -->\n",
       "<g id=\"node9\" class=\"node\">\n",
       "<title>9</title>\n",
       "<ellipse fill=\"none\" stroke=\"black\" cx=\"84.79\" cy=\"-220.26\" rx=\"16.03\" ry=\"16.03\"/>\n",
       "<text text-anchor=\"middle\" x=\"84.79\" y=\"-216.56\" font-family=\"Times New Roman,serif\" font-size=\"14.00\">9</text>\n",
       "</g>\n",
       "<!-- 8&#45;&gt;9 -->\n",
       "<g id=\"edge5\" class=\"edge\">\n",
       "<title>8&#45;&gt;9</title>\n",
       "<path fill=\"none\" stroke=\"black\" d=\"M32.69,-220.26C40.33,-220.26 49.76,-220.26 58.42,-220.26\"/>\n",
       "<polygon fill=\"black\" stroke=\"black\" points=\"58.44,-223.76 68.44,-220.26 58.44,-216.76 58.44,-223.76\"/>\n",
       "</g>\n",
       "</g>\n",
       "</svg>\n"
      ],
      "text/plain": [
       "<graphviz.graphs.Digraph at 0x28e8483cdf0>"
      ]
     },
     "execution_count": 19,
     "metadata": {},
     "output_type": "execute_result"
    }
   ],
   "source": [
    "print(t7)\n",
    "dot_67"
   ]
  },
  {
   "cell_type": "code",
   "execution_count": 20,
   "id": "e5733fd8",
   "metadata": {},
   "outputs": [
    {
     "name": "stdout",
     "output_type": "stream",
     "text": [
      "{2: 0.8666666666666666, 4: 1.2, 6: 1.2, 8: 0.7, 10: 0.5333333333333333}\n"
     ]
    },
    {
     "data": {
      "image/svg+xml": [
       "<?xml version=\"1.0\" encoding=\"UTF-8\" standalone=\"no\"?>\n",
       "<!DOCTYPE svg PUBLIC \"-//W3C//DTD SVG 1.1//EN\"\n",
       " \"http://www.w3.org/Graphics/SVG/1.1/DTD/svg11.dtd\">\n",
       "<!-- Generated by graphviz version 3.0.0 (20220226.1711)\n",
       " -->\n",
       "<!-- Pages: 1 -->\n",
       "<svg width=\"119pt\" height=\"245pt\"\n",
       " viewBox=\"0.00 0.00 118.95 244.53\" xmlns=\"http://www.w3.org/2000/svg\" xmlns:xlink=\"http://www.w3.org/1999/xlink\">\n",
       "<g id=\"graph0\" class=\"graph\" transform=\"scale(1 1) rotate(0) translate(4 240.53)\">\n",
       "<polygon fill=\"white\" stroke=\"transparent\" points=\"-4,4 -4,-240.53 114.95,-240.53 114.95,4 -4,4\"/>\n",
       "<!-- 3 -->\n",
       "<g id=\"node1\" class=\"node\">\n",
       "<title>3</title>\n",
       "<ellipse fill=\"none\" stroke=\"black\" cx=\"16.26\" cy=\"-16.26\" rx=\"16.03\" ry=\"16.03\"/>\n",
       "<text text-anchor=\"middle\" x=\"16.26\" y=\"-12.56\" font-family=\"Times New Roman,serif\" font-size=\"14.00\">3</text>\n",
       "</g>\n",
       "<!-- 2 -->\n",
       "<g id=\"node2\" class=\"node\">\n",
       "<title>2</title>\n",
       "<ellipse fill=\"none\" stroke=\"black\" cx=\"89.74\" cy=\"-16.26\" rx=\"16.03\" ry=\"16.03\"/>\n",
       "<text text-anchor=\"middle\" x=\"89.74\" y=\"-12.56\" font-family=\"Times New Roman,serif\" font-size=\"14.00\">2</text>\n",
       "</g>\n",
       "<!-- 3&#45;&gt;2 -->\n",
       "<g id=\"edge1\" class=\"edge\">\n",
       "<title>3&#45;&gt;2</title>\n",
       "<path fill=\"none\" stroke=\"black\" d=\"M32.77,-16.26C41.67,-16.26 53.06,-16.26 63.24,-16.26\"/>\n",
       "<polygon fill=\"black\" stroke=\"black\" points=\"63.26,-19.76 73.26,-16.26 63.26,-12.76 63.26,-19.76\"/>\n",
       "</g>\n",
       "<!-- 5 -->\n",
       "<g id=\"node3\" class=\"node\">\n",
       "<title>5</title>\n",
       "<ellipse fill=\"none\" stroke=\"black\" cx=\"16.26\" cy=\"-93.26\" rx=\"16.03\" ry=\"16.03\"/>\n",
       "<text text-anchor=\"middle\" x=\"16.26\" y=\"-89.56\" font-family=\"Times New Roman,serif\" font-size=\"14.00\">5</text>\n",
       "</g>\n",
       "<!-- 4 -->\n",
       "<g id=\"node4\" class=\"node\">\n",
       "<title>4</title>\n",
       "<ellipse fill=\"none\" stroke=\"black\" cx=\"89.74\" cy=\"-118.26\" rx=\"16.03\" ry=\"16.03\"/>\n",
       "<text text-anchor=\"middle\" x=\"89.74\" y=\"-114.56\" font-family=\"Times New Roman,serif\" font-size=\"14.00\">4</text>\n",
       "</g>\n",
       "<!-- 5&#45;&gt;4 -->\n",
       "<g id=\"edge2\" class=\"edge\">\n",
       "<title>5&#45;&gt;4</title>\n",
       "<path fill=\"none\" stroke=\"black\" d=\"M31.73,-98.32C41,-101.57 53.28,-105.86 64.07,-109.63\"/>\n",
       "<polygon fill=\"black\" stroke=\"black\" points=\"63.21,-113.04 73.81,-113.04 65.52,-106.43 63.21,-113.04\"/>\n",
       "</g>\n",
       "<!-- 6 -->\n",
       "<g id=\"node5\" class=\"node\">\n",
       "<title>6</title>\n",
       "<ellipse fill=\"none\" stroke=\"black\" cx=\"89.74\" cy=\"-67.26\" rx=\"16.03\" ry=\"16.03\"/>\n",
       "<text text-anchor=\"middle\" x=\"89.74\" y=\"-63.56\" font-family=\"Times New Roman,serif\" font-size=\"14.00\">6</text>\n",
       "</g>\n",
       "<!-- 5&#45;&gt;6 -->\n",
       "<g id=\"edge3\" class=\"edge\">\n",
       "<title>5&#45;&gt;6</title>\n",
       "<path fill=\"none\" stroke=\"black\" d=\"M31.73,-88C41.22,-84.55 53.87,-79.95 64.83,-75.96\"/>\n",
       "<polygon fill=\"black\" stroke=\"black\" points=\"66.1,-79.22 74.3,-72.52 63.7,-72.65 66.1,-79.22\"/>\n",
       "</g>\n",
       "<!-- 7 -->\n",
       "<g id=\"node6\" class=\"node\">\n",
       "<title>7</title>\n",
       "<ellipse fill=\"none\" stroke=\"black\" cx=\"16.26\" cy=\"-169.26\" rx=\"16.03\" ry=\"16.03\"/>\n",
       "<text text-anchor=\"middle\" x=\"16.26\" y=\"-165.56\" font-family=\"Times New Roman,serif\" font-size=\"14.00\">7</text>\n",
       "</g>\n",
       "<!-- 8 -->\n",
       "<g id=\"node7\" class=\"node\">\n",
       "<title>8</title>\n",
       "<ellipse fill=\"none\" stroke=\"black\" cx=\"89.74\" cy=\"-169.26\" rx=\"16.03\" ry=\"16.03\"/>\n",
       "<text text-anchor=\"middle\" x=\"89.74\" y=\"-165.56\" font-family=\"Times New Roman,serif\" font-size=\"14.00\">8</text>\n",
       "</g>\n",
       "<!-- 7&#45;&gt;8 -->\n",
       "<g id=\"edge4\" class=\"edge\">\n",
       "<title>7&#45;&gt;8</title>\n",
       "<path fill=\"none\" stroke=\"black\" d=\"M32.77,-169.26C41.67,-169.26 53.06,-169.26 63.24,-169.26\"/>\n",
       "<polygon fill=\"black\" stroke=\"black\" points=\"63.26,-172.76 73.26,-169.26 63.26,-165.76 63.26,-172.76\"/>\n",
       "</g>\n",
       "<!-- 9 -->\n",
       "<g id=\"node8\" class=\"node\">\n",
       "<title>9</title>\n",
       "<ellipse fill=\"none\" stroke=\"black\" cx=\"16.26\" cy=\"-220.26\" rx=\"16.03\" ry=\"16.03\"/>\n",
       "<text text-anchor=\"middle\" x=\"16.26\" y=\"-216.56\" font-family=\"Times New Roman,serif\" font-size=\"14.00\">9</text>\n",
       "</g>\n",
       "<!-- 10 -->\n",
       "<g id=\"node9\" class=\"node\">\n",
       "<title>10</title>\n",
       "<ellipse fill=\"none\" stroke=\"black\" cx=\"89.74\" cy=\"-220.26\" rx=\"21.43\" ry=\"16.03\"/>\n",
       "<text text-anchor=\"middle\" x=\"89.74\" y=\"-216.56\" font-family=\"Times New Roman,serif\" font-size=\"14.00\">10</text>\n",
       "</g>\n",
       "<!-- 9&#45;&gt;10 -->\n",
       "<g id=\"edge5\" class=\"edge\">\n",
       "<title>9&#45;&gt;10</title>\n",
       "<path fill=\"none\" stroke=\"black\" d=\"M32.77,-220.26C40.27,-220.26 49.53,-220.26 58.36,-220.26\"/>\n",
       "<polygon fill=\"black\" stroke=\"black\" points=\"58.37,-223.76 68.37,-220.26 58.37,-216.76 58.37,-223.76\"/>\n",
       "</g>\n",
       "</g>\n",
       "</svg>\n"
      ],
      "text/plain": [
       "<graphviz.graphs.Digraph at 0x28e8483c640>"
      ]
     },
     "execution_count": 20,
     "metadata": {},
     "output_type": "execute_result"
    }
   ],
   "source": [
    "print(t8)\n",
    "dot_78"
   ]
  },
  {
   "cell_type": "code",
   "execution_count": 21,
   "id": "577e005d",
   "metadata": {},
   "outputs": [
    {
     "name": "stdout",
     "output_type": "stream",
     "text": [
      "{1: 0.8666666666666666, 3: 1.2, 5: 1.2, 7: 1.3666666666666667, 9: 0.7}\n"
     ]
    },
    {
     "data": {
      "image/svg+xml": [
       "<?xml version=\"1.0\" encoding=\"UTF-8\" standalone=\"no\"?>\n",
       "<!DOCTYPE svg PUBLIC \"-//W3C//DTD SVG 1.1//EN\"\n",
       " \"http://www.w3.org/Graphics/SVG/1.1/DTD/svg11.dtd\">\n",
       "<!-- Generated by graphviz version 3.0.0 (20220226.1711)\n",
       " -->\n",
       "<!-- Pages: 1 -->\n",
       "<svg width=\"109pt\" height=\"245pt\"\n",
       " viewBox=\"0.00 0.00 109.05 244.53\" xmlns=\"http://www.w3.org/2000/svg\" xmlns:xlink=\"http://www.w3.org/1999/xlink\">\n",
       "<g id=\"graph0\" class=\"graph\" transform=\"scale(1 1) rotate(0) translate(4 240.53)\">\n",
       "<polygon fill=\"white\" stroke=\"transparent\" points=\"-4,4 -4,-240.53 105.05,-240.53 105.05,4 -4,4\"/>\n",
       "<!-- 2 -->\n",
       "<g id=\"node1\" class=\"node\">\n",
       "<title>2</title>\n",
       "<ellipse fill=\"none\" stroke=\"black\" cx=\"16.26\" cy=\"-16.26\" rx=\"16.03\" ry=\"16.03\"/>\n",
       "<text text-anchor=\"middle\" x=\"16.26\" y=\"-12.56\" font-family=\"Times New Roman,serif\" font-size=\"14.00\">2</text>\n",
       "</g>\n",
       "<!-- 1 -->\n",
       "<g id=\"node2\" class=\"node\">\n",
       "<title>1</title>\n",
       "<ellipse fill=\"none\" stroke=\"black\" cx=\"84.79\" cy=\"-16.26\" rx=\"16.03\" ry=\"16.03\"/>\n",
       "<text text-anchor=\"middle\" x=\"84.79\" y=\"-12.56\" font-family=\"Times New Roman,serif\" font-size=\"14.00\">1</text>\n",
       "</g>\n",
       "<!-- 2&#45;&gt;1 -->\n",
       "<g id=\"edge1\" class=\"edge\">\n",
       "<title>2&#45;&gt;1</title>\n",
       "<path fill=\"none\" stroke=\"black\" d=\"M32.69,-16.26C40.33,-16.26 49.76,-16.26 58.42,-16.26\"/>\n",
       "<polygon fill=\"black\" stroke=\"black\" points=\"58.44,-19.76 68.44,-16.26 58.44,-12.76 58.44,-19.76\"/>\n",
       "</g>\n",
       "<!-- 4 -->\n",
       "<g id=\"node3\" class=\"node\">\n",
       "<title>4</title>\n",
       "<ellipse fill=\"none\" stroke=\"black\" cx=\"16.26\" cy=\"-93.26\" rx=\"16.03\" ry=\"16.03\"/>\n",
       "<text text-anchor=\"middle\" x=\"16.26\" y=\"-89.56\" font-family=\"Times New Roman,serif\" font-size=\"14.00\">4</text>\n",
       "</g>\n",
       "<!-- 3 -->\n",
       "<g id=\"node4\" class=\"node\">\n",
       "<title>3</title>\n",
       "<ellipse fill=\"none\" stroke=\"black\" cx=\"84.79\" cy=\"-118.26\" rx=\"16.03\" ry=\"16.03\"/>\n",
       "<text text-anchor=\"middle\" x=\"84.79\" y=\"-114.56\" font-family=\"Times New Roman,serif\" font-size=\"14.00\">3</text>\n",
       "</g>\n",
       "<!-- 4&#45;&gt;3 -->\n",
       "<g id=\"edge2\" class=\"edge\">\n",
       "<title>4&#45;&gt;3</title>\n",
       "<path fill=\"none\" stroke=\"black\" d=\"M31.7,-98.69C39.89,-101.77 50.36,-105.7 59.76,-109.23\"/>\n",
       "<polygon fill=\"black\" stroke=\"black\" points=\"58.79,-112.61 69.38,-112.85 61.25,-106.06 58.79,-112.61\"/>\n",
       "</g>\n",
       "<!-- 5 -->\n",
       "<g id=\"node5\" class=\"node\">\n",
       "<title>5</title>\n",
       "<ellipse fill=\"none\" stroke=\"black\" cx=\"84.79\" cy=\"-67.26\" rx=\"16.03\" ry=\"16.03\"/>\n",
       "<text text-anchor=\"middle\" x=\"84.79\" y=\"-63.56\" font-family=\"Times New Roman,serif\" font-size=\"14.00\">5</text>\n",
       "</g>\n",
       "<!-- 4&#45;&gt;5 -->\n",
       "<g id=\"edge3\" class=\"edge\">\n",
       "<title>4&#45;&gt;5</title>\n",
       "<path fill=\"none\" stroke=\"black\" d=\"M31.7,-87.62C39.98,-84.39 50.58,-80.24 60.06,-76.54\"/>\n",
       "<polygon fill=\"black\" stroke=\"black\" points=\"61.34,-79.79 69.38,-72.89 58.8,-73.27 61.34,-79.79\"/>\n",
       "</g>\n",
       "<!-- 6 -->\n",
       "<g id=\"node6\" class=\"node\">\n",
       "<title>6</title>\n",
       "<ellipse fill=\"none\" stroke=\"black\" cx=\"16.26\" cy=\"-169.26\" rx=\"16.03\" ry=\"16.03\"/>\n",
       "<text text-anchor=\"middle\" x=\"16.26\" y=\"-165.56\" font-family=\"Times New Roman,serif\" font-size=\"14.00\">6</text>\n",
       "</g>\n",
       "<!-- 7 -->\n",
       "<g id=\"node7\" class=\"node\">\n",
       "<title>7</title>\n",
       "<ellipse fill=\"none\" stroke=\"black\" cx=\"84.79\" cy=\"-169.26\" rx=\"16.03\" ry=\"16.03\"/>\n",
       "<text text-anchor=\"middle\" x=\"84.79\" y=\"-165.56\" font-family=\"Times New Roman,serif\" font-size=\"14.00\">7</text>\n",
       "</g>\n",
       "<!-- 6&#45;&gt;7 -->\n",
       "<g id=\"edge4\" class=\"edge\">\n",
       "<title>6&#45;&gt;7</title>\n",
       "<path fill=\"none\" stroke=\"black\" d=\"M32.69,-169.26C40.33,-169.26 49.76,-169.26 58.42,-169.26\"/>\n",
       "<polygon fill=\"black\" stroke=\"black\" points=\"58.44,-172.76 68.44,-169.26 58.44,-165.76 58.44,-172.76\"/>\n",
       "</g>\n",
       "<!-- 8 -->\n",
       "<g id=\"node8\" class=\"node\">\n",
       "<title>8</title>\n",
       "<ellipse fill=\"none\" stroke=\"black\" cx=\"16.26\" cy=\"-220.26\" rx=\"16.03\" ry=\"16.03\"/>\n",
       "<text text-anchor=\"middle\" x=\"16.26\" y=\"-216.56\" font-family=\"Times New Roman,serif\" font-size=\"14.00\">8</text>\n",
       "</g>\n",
       "<!-- 9 -->\n",
       "<g id=\"node9\" class=\"node\">\n",
       "<title>9</title>\n",
       "<ellipse fill=\"none\" stroke=\"black\" cx=\"84.79\" cy=\"-220.26\" rx=\"16.03\" ry=\"16.03\"/>\n",
       "<text text-anchor=\"middle\" x=\"84.79\" y=\"-216.56\" font-family=\"Times New Roman,serif\" font-size=\"14.00\">9</text>\n",
       "</g>\n",
       "<!-- 8&#45;&gt;9 -->\n",
       "<g id=\"edge5\" class=\"edge\">\n",
       "<title>8&#45;&gt;9</title>\n",
       "<path fill=\"none\" stroke=\"black\" d=\"M32.69,-220.26C40.33,-220.26 49.76,-220.26 58.42,-220.26\"/>\n",
       "<polygon fill=\"black\" stroke=\"black\" points=\"58.44,-223.76 68.44,-220.26 58.44,-216.76 58.44,-223.76\"/>\n",
       "</g>\n",
       "</g>\n",
       "</svg>\n"
      ],
      "text/plain": [
       "<graphviz.graphs.Digraph at 0x28e8483c130>"
      ]
     },
     "execution_count": 21,
     "metadata": {},
     "output_type": "execute_result"
    }
   ],
   "source": [
    "print(t9)\n",
    "dot_89"
   ]
  },
  {
   "cell_type": "code",
   "execution_count": 22,
   "id": "06740c6b",
   "metadata": {},
   "outputs": [
    {
     "name": "stdout",
     "output_type": "stream",
     "text": [
      "{2: 1.2, 4: 1.2, 6: 1.3666666666666667, 8: 1.5333333333333334, 10: 0.95}\n"
     ]
    },
    {
     "data": {
      "image/svg+xml": [
       "<?xml version=\"1.0\" encoding=\"UTF-8\" standalone=\"no\"?>\n",
       "<!DOCTYPE svg PUBLIC \"-//W3C//DTD SVG 1.1//EN\"\n",
       " \"http://www.w3.org/Graphics/SVG/1.1/DTD/svg11.dtd\">\n",
       "<!-- Generated by graphviz version 3.0.0 (20220226.1711)\n",
       " -->\n",
       "<!-- Pages: 1 -->\n",
       "<svg width=\"119pt\" height=\"245pt\"\n",
       " viewBox=\"0.00 0.00 118.95 244.53\" xmlns=\"http://www.w3.org/2000/svg\" xmlns:xlink=\"http://www.w3.org/1999/xlink\">\n",
       "<g id=\"graph0\" class=\"graph\" transform=\"scale(1 1) rotate(0) translate(4 240.53)\">\n",
       "<polygon fill=\"white\" stroke=\"transparent\" points=\"-4,4 -4,-240.53 114.95,-240.53 114.95,4 -4,4\"/>\n",
       "<!-- 3 -->\n",
       "<g id=\"node1\" class=\"node\">\n",
       "<title>3</title>\n",
       "<ellipse fill=\"none\" stroke=\"black\" cx=\"16.26\" cy=\"-42.26\" rx=\"16.03\" ry=\"16.03\"/>\n",
       "<text text-anchor=\"middle\" x=\"16.26\" y=\"-38.56\" font-family=\"Times New Roman,serif\" font-size=\"14.00\">3</text>\n",
       "</g>\n",
       "<!-- 2 -->\n",
       "<g id=\"node2\" class=\"node\">\n",
       "<title>2</title>\n",
       "<ellipse fill=\"none\" stroke=\"black\" cx=\"89.74\" cy=\"-67.26\" rx=\"16.03\" ry=\"16.03\"/>\n",
       "<text text-anchor=\"middle\" x=\"89.74\" y=\"-63.56\" font-family=\"Times New Roman,serif\" font-size=\"14.00\">2</text>\n",
       "</g>\n",
       "<!-- 3&#45;&gt;2 -->\n",
       "<g id=\"edge1\" class=\"edge\">\n",
       "<title>3&#45;&gt;2</title>\n",
       "<path fill=\"none\" stroke=\"black\" d=\"M31.73,-47.32C41,-50.57 53.28,-54.86 64.07,-58.63\"/>\n",
       "<polygon fill=\"black\" stroke=\"black\" points=\"63.21,-62.04 73.81,-62.04 65.52,-55.43 63.21,-62.04\"/>\n",
       "</g>\n",
       "<!-- 4 -->\n",
       "<g id=\"node3\" class=\"node\">\n",
       "<title>4</title>\n",
       "<ellipse fill=\"none\" stroke=\"black\" cx=\"89.74\" cy=\"-16.26\" rx=\"16.03\" ry=\"16.03\"/>\n",
       "<text text-anchor=\"middle\" x=\"89.74\" y=\"-12.56\" font-family=\"Times New Roman,serif\" font-size=\"14.00\">4</text>\n",
       "</g>\n",
       "<!-- 3&#45;&gt;4 -->\n",
       "<g id=\"edge2\" class=\"edge\">\n",
       "<title>3&#45;&gt;4</title>\n",
       "<path fill=\"none\" stroke=\"black\" d=\"M31.73,-37C41.22,-33.55 53.87,-28.95 64.83,-24.96\"/>\n",
       "<polygon fill=\"black\" stroke=\"black\" points=\"66.1,-28.22 74.3,-21.52 63.7,-21.65 66.1,-28.22\"/>\n",
       "</g>\n",
       "<!-- 7 -->\n",
       "<g id=\"node4\" class=\"node\">\n",
       "<title>7</title>\n",
       "<ellipse fill=\"none\" stroke=\"black\" cx=\"16.26\" cy=\"-143.26\" rx=\"16.03\" ry=\"16.03\"/>\n",
       "<text text-anchor=\"middle\" x=\"16.26\" y=\"-139.56\" font-family=\"Times New Roman,serif\" font-size=\"14.00\">7</text>\n",
       "</g>\n",
       "<!-- 6 -->\n",
       "<g id=\"node5\" class=\"node\">\n",
       "<title>6</title>\n",
       "<ellipse fill=\"none\" stroke=\"black\" cx=\"89.74\" cy=\"-169.26\" rx=\"16.03\" ry=\"16.03\"/>\n",
       "<text text-anchor=\"middle\" x=\"89.74\" y=\"-165.56\" font-family=\"Times New Roman,serif\" font-size=\"14.00\">6</text>\n",
       "</g>\n",
       "<!-- 7&#45;&gt;6 -->\n",
       "<g id=\"edge3\" class=\"edge\">\n",
       "<title>7&#45;&gt;6</title>\n",
       "<path fill=\"none\" stroke=\"black\" d=\"M31.73,-148.52C41.22,-151.98 53.87,-156.58 64.83,-160.57\"/>\n",
       "<polygon fill=\"black\" stroke=\"black\" points=\"63.7,-163.88 74.3,-164.01 66.1,-157.3 63.7,-163.88\"/>\n",
       "</g>\n",
       "<!-- 8 -->\n",
       "<g id=\"node6\" class=\"node\">\n",
       "<title>8</title>\n",
       "<ellipse fill=\"none\" stroke=\"black\" cx=\"89.74\" cy=\"-118.26\" rx=\"16.03\" ry=\"16.03\"/>\n",
       "<text text-anchor=\"middle\" x=\"89.74\" y=\"-114.56\" font-family=\"Times New Roman,serif\" font-size=\"14.00\">8</text>\n",
       "</g>\n",
       "<!-- 7&#45;&gt;8 -->\n",
       "<g id=\"edge4\" class=\"edge\">\n",
       "<title>7&#45;&gt;8</title>\n",
       "<path fill=\"none\" stroke=\"black\" d=\"M31.73,-138.2C41,-134.96 53.28,-130.67 64.07,-126.89\"/>\n",
       "<polygon fill=\"black\" stroke=\"black\" points=\"65.52,-130.09 73.81,-123.49 63.21,-123.48 65.52,-130.09\"/>\n",
       "</g>\n",
       "<!-- 9 -->\n",
       "<g id=\"node7\" class=\"node\">\n",
       "<title>9</title>\n",
       "<ellipse fill=\"none\" stroke=\"black\" cx=\"16.26\" cy=\"-220.26\" rx=\"16.03\" ry=\"16.03\"/>\n",
       "<text text-anchor=\"middle\" x=\"16.26\" y=\"-216.56\" font-family=\"Times New Roman,serif\" font-size=\"14.00\">9</text>\n",
       "</g>\n",
       "<!-- 10 -->\n",
       "<g id=\"node8\" class=\"node\">\n",
       "<title>10</title>\n",
       "<ellipse fill=\"none\" stroke=\"black\" cx=\"89.74\" cy=\"-220.26\" rx=\"21.43\" ry=\"16.03\"/>\n",
       "<text text-anchor=\"middle\" x=\"89.74\" y=\"-216.56\" font-family=\"Times New Roman,serif\" font-size=\"14.00\">10</text>\n",
       "</g>\n",
       "<!-- 9&#45;&gt;10 -->\n",
       "<g id=\"edge5\" class=\"edge\">\n",
       "<title>9&#45;&gt;10</title>\n",
       "<path fill=\"none\" stroke=\"black\" d=\"M32.77,-220.26C40.27,-220.26 49.53,-220.26 58.36,-220.26\"/>\n",
       "<polygon fill=\"black\" stroke=\"black\" points=\"58.37,-223.76 68.37,-220.26 58.37,-216.76 58.37,-223.76\"/>\n",
       "</g>\n",
       "</g>\n",
       "</svg>\n"
      ],
      "text/plain": [
       "<graphviz.graphs.Digraph at 0x28e8483cf40>"
      ]
     },
     "execution_count": 22,
     "metadata": {},
     "output_type": "execute_result"
    }
   ],
   "source": [
    "print(t10)\n",
    "dot_910"
   ]
  },
  {
   "cell_type": "code",
   "execution_count": 13,
   "id": "9d8d0339",
   "metadata": {},
   "outputs": [
    {
     "data": {
      "text/plain": [
       "{4: 'from5', 6: 'from5', 8: 'from7', 10: 'from9'}"
      ]
     },
     "execution_count": 13,
     "metadata": {},
     "output_type": "execute_result"
    }
   ],
   "source": [
    "transition_34"
   ]
  },
  {
   "cell_type": "code",
   "execution_count": 14,
   "id": "ef9b159f",
   "metadata": {},
   "outputs": [
    {
     "data": {
      "text/plain": [
       "{3: 'from4', 5: 'from6', 7: 'from6', 9: 'from8'}"
      ]
     },
     "execution_count": 14,
     "metadata": {},
     "output_type": "execute_result"
    }
   ],
   "source": [
    "transition_45"
   ]
  },
  {
   "cell_type": "code",
   "execution_count": null,
   "id": "da6ccc4a",
   "metadata": {},
   "outputs": [],
   "source": []
  }
 ],
 "metadata": {
  "kernelspec": {
   "display_name": "Python 3 (ipykernel)",
   "language": "python",
   "name": "python3"
  },
  "language_info": {
   "codemirror_mode": {
    "name": "ipython",
    "version": 3
   },
   "file_extension": ".py",
   "mimetype": "text/x-python",
   "name": "python",
   "nbconvert_exporter": "python",
   "pygments_lexer": "ipython3",
   "version": "3.9.7"
  }
 },
 "nbformat": 4,
 "nbformat_minor": 5
}
