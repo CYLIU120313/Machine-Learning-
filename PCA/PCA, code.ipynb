{
 "cells": [
  {
   "cell_type": "code",
   "execution_count": 1,
   "id": "ba285fbc",
   "metadata": {},
   "outputs": [],
   "source": [
    "import pandas as pd\n",
    "import numpy as np\n",
    "from numpy.linalg import eig\n",
    "import matplotlib.pyplot as plt"
   ]
  },
  {
   "cell_type": "code",
   "execution_count": 2,
   "id": "f9cc12ca",
   "metadata": {},
   "outputs": [],
   "source": [
    "dataset = pd.read_table('pca-data.txt',sep='\\t',header = None)"
   ]
  },
  {
   "cell_type": "code",
   "execution_count": 3,
   "id": "abbfe57b",
   "metadata": {},
   "outputs": [
    {
     "data": {
      "text/html": [
       "<div>\n",
       "<style scoped>\n",
       "    .dataframe tbody tr th:only-of-type {\n",
       "        vertical-align: middle;\n",
       "    }\n",
       "\n",
       "    .dataframe tbody tr th {\n",
       "        vertical-align: top;\n",
       "    }\n",
       "\n",
       "    .dataframe thead th {\n",
       "        text-align: right;\n",
       "    }\n",
       "</style>\n",
       "<table border=\"1\" class=\"dataframe\">\n",
       "  <thead>\n",
       "    <tr style=\"text-align: right;\">\n",
       "      <th></th>\n",
       "      <th>0</th>\n",
       "      <th>1</th>\n",
       "      <th>2</th>\n",
       "    </tr>\n",
       "  </thead>\n",
       "  <tbody>\n",
       "    <tr>\n",
       "      <th>0</th>\n",
       "      <td>5.906263</td>\n",
       "      <td>-7.729465</td>\n",
       "      <td>9.144945</td>\n",
       "    </tr>\n",
       "    <tr>\n",
       "      <th>1</th>\n",
       "      <td>-8.640323</td>\n",
       "      <td>1.724260</td>\n",
       "      <td>-10.696805</td>\n",
       "    </tr>\n",
       "    <tr>\n",
       "      <th>2</th>\n",
       "      <td>0.258541</td>\n",
       "      <td>0.230622</td>\n",
       "      <td>0.767439</td>\n",
       "    </tr>\n",
       "    <tr>\n",
       "      <th>3</th>\n",
       "      <td>-5.234354</td>\n",
       "      <td>3.194685</td>\n",
       "      <td>-1.894385</td>\n",
       "    </tr>\n",
       "    <tr>\n",
       "      <th>4</th>\n",
       "      <td>12.622863</td>\n",
       "      <td>-3.507888</td>\n",
       "      <td>4.086258</td>\n",
       "    </tr>\n",
       "    <tr>\n",
       "      <th>...</th>\n",
       "      <td>...</td>\n",
       "      <td>...</td>\n",
       "      <td>...</td>\n",
       "    </tr>\n",
       "    <tr>\n",
       "      <th>5995</th>\n",
       "      <td>-5.408283</td>\n",
       "      <td>5.728842</td>\n",
       "      <td>-8.416382</td>\n",
       "    </tr>\n",
       "    <tr>\n",
       "      <th>5996</th>\n",
       "      <td>7.772532</td>\n",
       "      <td>0.301244</td>\n",
       "      <td>2.470601</td>\n",
       "    </tr>\n",
       "    <tr>\n",
       "      <th>5997</th>\n",
       "      <td>-3.691428</td>\n",
       "      <td>-0.474338</td>\n",
       "      <td>0.550201</td>\n",
       "    </tr>\n",
       "    <tr>\n",
       "      <th>5998</th>\n",
       "      <td>7.638315</td>\n",
       "      <td>-4.475833</td>\n",
       "      <td>8.153923</td>\n",
       "    </tr>\n",
       "    <tr>\n",
       "      <th>5999</th>\n",
       "      <td>9.722078</td>\n",
       "      <td>-8.501354</td>\n",
       "      <td>8.842407</td>\n",
       "    </tr>\n",
       "  </tbody>\n",
       "</table>\n",
       "<p>6000 rows × 3 columns</p>\n",
       "</div>"
      ],
      "text/plain": [
       "              0         1          2\n",
       "0      5.906263 -7.729465   9.144945\n",
       "1     -8.640323  1.724260 -10.696805\n",
       "2      0.258541  0.230622   0.767439\n",
       "3     -5.234354  3.194685  -1.894385\n",
       "4     12.622863 -3.507888   4.086258\n",
       "...         ...       ...        ...\n",
       "5995  -5.408283  5.728842  -8.416382\n",
       "5996   7.772532  0.301244   2.470601\n",
       "5997  -3.691428 -0.474338   0.550201\n",
       "5998   7.638315 -4.475833   8.153923\n",
       "5999   9.722078 -8.501354   8.842407\n",
       "\n",
       "[6000 rows x 3 columns]"
      ]
     },
     "execution_count": 3,
     "metadata": {},
     "output_type": "execute_result"
    }
   ],
   "source": [
    "dataset"
   ]
  },
  {
   "cell_type": "code",
   "execution_count": 4,
   "id": "ad0a91ee",
   "metadata": {},
   "outputs": [],
   "source": [
    "cm = np.cov(dataset,rowvar = False) #Calculate the covariance matrix"
   ]
  },
  {
   "cell_type": "code",
   "execution_count": 5,
   "id": "33341474",
   "metadata": {},
   "outputs": [
    {
     "data": {
      "text/plain": [
       "array([[ 81.24199811, -15.84081415,  31.66840483],\n",
       "       [-15.84081415,  13.70181418, -15.26445036],\n",
       "       [ 31.66840483, -15.26445036,  31.36677137]])"
      ]
     },
     "execution_count": 5,
     "metadata": {},
     "output_type": "execute_result"
    }
   ],
   "source": [
    "cm"
   ]
  },
  {
   "cell_type": "code",
   "execution_count": 6,
   "id": "2134963f",
   "metadata": {},
   "outputs": [],
   "source": [
    "eig_values,eig_vectors = np.linalg.eig(cm) #Calculate the eignvalues and eignvectors"
   ]
  },
  {
   "cell_type": "code",
   "execution_count": 7,
   "id": "a3e43686",
   "metadata": {},
   "outputs": [
    {
     "data": {
      "text/plain": [
       "array([101.61980038,  19.89921519,   4.79156808])"
      ]
     },
     "execution_count": 7,
     "metadata": {},
     "output_type": "execute_result"
    }
   ],
   "source": [
    "eig_values"
   ]
  },
  {
   "cell_type": "code",
   "execution_count": 8,
   "id": "416d5639",
   "metadata": {},
   "outputs": [
    {
     "data": {
      "text/plain": [
       "array([[ 0.86667137, -0.4962773 , -0.0508879 ],\n",
       "       [-0.23276482, -0.4924792 ,  0.83862076],\n",
       "       [ 0.44124968,  0.71496368,  0.54233352]])"
      ]
     },
     "execution_count": 8,
     "metadata": {},
     "output_type": "execute_result"
    }
   ],
   "source": [
    "eig_vectors"
   ]
  },
  {
   "cell_type": "code",
   "execution_count": 9,
   "id": "72c112bd",
   "metadata": {},
   "outputs": [
    {
     "name": "stdout",
     "output_type": "stream",
     "text": [
      "[[ 0.86667137 -0.4962773 ]\n",
      " [-0.23276482 -0.4924792 ]\n",
      " [ 0.44124968  0.71496368]]\n"
     ]
    }
   ],
   "source": [
    "z = eig_vectors[:,:2]    #Choose the eigenvectors of the first two principal components \n",
    "\n",
    "print(z)"
   ]
  },
  {
   "cell_type": "code",
   "execution_count": 10,
   "id": "add0d8fa",
   "metadata": {},
   "outputs": [
    {
     "name": "stdout",
     "output_type": "stream",
     "text": [
      "              0         1\n",
      "0     10.953140  7.413760\n",
      "1    -12.609630 -4.208993\n",
      "2      0.509021  0.306807\n",
      "3     -6.115972 -0.330041\n",
      "4     13.559447 -1.615352\n",
      "...         ...       ...\n",
      "5995  -9.734402 -6.154735\n",
      "5996   7.756264 -2.239297\n",
      "5997  -2.846070  2.458947\n",
      "5998  11.259641  4.243291\n",
      "5999  14.306372  5.683894\n",
      "\n",
      "[6000 rows x 2 columns]\n"
     ]
    }
   ],
   "source": [
    "data_2d = dataset.dot(z) #Calculate dataset's inner product on eigenvectors z\n",
    "\n",
    "print(data_2d)"
   ]
  },
  {
   "cell_type": "code",
   "execution_count": 11,
   "id": "48fa45df",
   "metadata": {},
   "outputs": [
    {
     "data": {
      "image/png": "[encoded data removed]",
      "text/plain": [
       "<Figure size 576x432 with 1 Axes>"
      ]
     },
     "metadata": {
      "needs_background": "light"
     },
     "output_type": "display_data"
    }
   ],
   "source": [
    "#Plot the 2D PCA:\n",
    "plt.figure(figsize=(8,6))\n",
    "plt.scatter(data_2d[0],data_2d[1],s=10) \n",
    "plt.xlabel(\"X\")\n",
    "plt.ylabel(\"Y\")\n",
    "plt.title(\"2D PCA\")\n",
    "plt.show()"
   ]
  },
  {
   "cell_type": "code",
   "execution_count": null,
   "id": "38ea7ecc",
   "metadata": {},
   "outputs": [],
   "source": []
  }
 ],
 "metadata": {
  "kernelspec": {
   "display_name": "Python 3 (ipykernel)",
   "language": "python",
   "name": "python3"
  },
  "language_info": {
   "codemirror_mode": {
    "name": "ipython",
    "version": 3
   },
   "file_extension": ".py",
   "mimetype": "text/x-python",
   "name": "python",
   "nbconvert_exporter": "python",
   "pygments_lexer": "ipython3",
   "version": "3.9.7"
  }
 },
 "nbformat": 4,
 "nbformat_minor": 5
}
