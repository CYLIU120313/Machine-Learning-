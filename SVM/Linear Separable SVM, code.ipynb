{
 "cells": [
  {
   "cell_type": "code",
   "execution_count": 2,
   "id": "e7199554",
   "metadata": {},
   "outputs": [],
   "source": [
    "import numpy as np\n",
    "import pandas as pd\n",
    "import sympy as sp \n",
    "from scipy.optimize import minimize \n",
    "from scipy.optimize import differential_evolution"
   ]
  },
  {
   "cell_type": "code",
   "execution_count": 9,
   "id": "deec9822",
   "metadata": {},
   "outputs": [],
   "source": [
    "f= open('linsep.txt','r')\n",
    "data = []\n",
    "for line in f.readlines():\n",
    "    datapoint = line.strip().split(',')\n",
    "    datapoint = list(map(float,datapoint))\n",
    "    data.append(datapoint)"
   ]
  },
  {
   "cell_type": "code",
   "execution_count": 10,
   "id": "541c6a6e",
   "metadata": {},
   "outputs": [],
   "source": [
    "#Check our dataset:\n",
    "#data"
   ]
  },
  {
   "cell_type": "code",
   "execution_count": 11,
   "id": "9919e77b",
   "metadata": {},
   "outputs": [],
   "source": [
    "#Create the list for containing lambdas \n",
    "lambdas = []\n",
    "for i in range(len(data)):\n",
    "    globals()['lambda'+str(i+1)] = sp.symbols('lambda{}'.format(i+1))\n",
    "    lambdas.append(globals()['lambda'+str(i+1)])\n",
    "    "
   ]
  },
  {
   "cell_type": "code",
   "execution_count": 12,
   "id": "2c7224a6",
   "metadata": {},
   "outputs": [],
   "source": [
    "#lambdas"
   ]
  },
  {
   "cell_type": "code",
   "execution_count": 7,
   "id": "f7f6bff8",
   "metadata": {},
   "outputs": [],
   "source": [
    "#Constructing the duality lagrange function:\n",
    "sigma_ll_yy_xx = 0 \n",
    "for i in range(len(data)):\n",
    "    for j in range(len(lambdas)):\n",
    "        sigma_ll_yy_xx += lambdas[i] * lambdas[j] * data[i][2] * data[j][2] * np.dot(data[i][0:2],data[j][0:2])\n",
    "\n",
    "sigma_lambda = 0\n",
    "\n",
    "for lambda_i in lambdas:\n",
    "    sigma_lambda += lambda_i\n",
    "\n",
    "#This equation is our minimization target:\n",
    "lagrange = (1/2)*sigma_ll_yy_xx-(sigma_lambda)\n"
   ]
  },
  {
   "cell_type": "code",
   "execution_count": null,
   "id": "2debeb85",
   "metadata": {},
   "outputs": [],
   "source": [
    "#Write the duality lagrange function into the general python function form\n",
    "def lagrange_min(x):\n",
    "    zipped = zip(lambdas,x)\n",
    "    return lagrange.subs(zipped)"
   ]
  },
  {
   "cell_type": "code",
   "execution_count": 67,
   "id": "1badf27a",
   "metadata": {},
   "outputs": [],
   "source": [
    "#KKT:\n",
    "#Sum of lambdai x yi must be zero:\n",
    "def sigma_lambda_y(x):\n",
    "    sigma_lambda_y = 0\n",
    "    for i in range(len(lambdas)):\n",
    "        sigma_lambda_y  += lambdas[i]*data[i][2]-0  \n",
    "    zipped = zip(lambdas,x)\n",
    "    return sigma_lambda_y.subs(zipped)"
   ]
  },
  {
   "cell_type": "code",
   "execution_count": 78,
   "id": "38bcd854",
   "metadata": {},
   "outputs": [],
   "source": [
    "#KKT:\n",
    "#All lambda value must be no less than zero:\n",
    "lamb_positive = []\n",
    "for i in range(len(lambdas)):\n",
    "    globals()['bound'+str(i+1)]= (0,np.inf)\n",
    "    lamb_positive.append(globals()['bound'+str(i+1)])\n",
    "\n",
    "lamb_positive = tuple(lamb_positive)"
   ]
  },
  {
   "cell_type": "code",
   "execution_count": 1,
   "id": "3d05bd60",
   "metadata": {},
   "outputs": [],
   "source": [
    "#Minimize the Lagrangian function:\n",
    "x0=[2]*100\n",
    "solution_lambda = minimize(lagrange_min,x0,tol=1e-8,method='COBYLA',bounds=lamb_positive,constraints=[{'type':'eq','fun':sigma_lambda_y}])"
   ]
  },
  {
   "cell_type": "code",
   "execution_count": null,
   "id": "98be2f6a",
   "metadata": {},
   "outputs": [],
   "source": [
    "#Second attempt\n",
    "solution_lambda2 = minimize(lagrange_min,x0,tol=1e-8,method='nelder-mead')"
   ]
  },
  {
   "cell_type": "code",
   "execution_count": null,
   "id": "2fd3513c",
   "metadata": {},
   "outputs": [],
   "source": [
    "#Third attempt, using differential_evolution\n",
    "solution_lambda3 = differential_evolution(lagrange,bounds=lamb_positive)"
   ]
  },
  {
   "cell_type": "code",
   "execution_count": 3,
   "id": "b1a27995",
   "metadata": {},
   "outputs": [],
   "source": [
    "#solution_lambda.x"
   ]
  },
  {
   "cell_type": "code",
   "execution_count": 142,
   "id": "22edfc48",
   "metadata": {},
   "outputs": [],
   "source": [
    "#W*\n",
    "\n",
    "w_star = []\n",
    "\n",
    "for i in range(len(data)):\n",
    "    lambdai_yi_xi = [(list(solution_lambda.values())[i]*data[i][2])*x for x in data[i][0:2]]\n",
    "    w_star = np.sum([w_star,lambdai_yi_xi],axis=0)\n",
    "\n",
    "w_star = w_star.tolist()"
   ]
  }
 ],
 "metadata": {
  "kernelspec": {
   "display_name": "Python 3 (ipykernel)",
   "language": "python",
   "name": "python3"
  },
  "language_info": {
   "codemirror_mode": {
    "name": "ipython",
    "version": 3
   },
   "file_extension": ".py",
   "mimetype": "text/x-python",
   "name": "python",
   "nbconvert_exporter": "python",
   "pygments_lexer": "ipython3",
   "version": "3.9.7"
  }
 },
 "nbformat": 4,
 "nbformat_minor": 5
}
