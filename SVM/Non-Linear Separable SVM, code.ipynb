{
 "cells": [
  {
   "cell_type": "code",
   "execution_count": 8,
   "id": "5bb43616",
   "metadata": {},
   "outputs": [],
   "source": [
    "import numpy as np\n",
    "import pandas as pd\n",
    "import sympy as sp \n",
    "from scipy.optimize import minimize \n",
    "from scipy.optimize import differential_evolution"
   ]
  },
  {
   "cell_type": "code",
   "execution_count": 2,
   "id": "c29202f0",
   "metadata": {},
   "outputs": [],
   "source": [
    "#Read in the dataset 'nonlinsep.txt', storing the datapoints in the form of list \n",
    "f= open('nonlinsep.txt','r')\n",
    "data = []\n",
    "for line in f.readlines():\n",
    "    datapoint = line.strip().split(',')\n",
    "    datapoint = list(map(float,datapoint))\n",
    "    data.append(datapoint)"
   ]
  },
  {
   "cell_type": "code",
   "execution_count": 3,
   "id": "b4881f36",
   "metadata": {},
   "outputs": [],
   "source": [
    "#Check our dataset:\n",
    "#data"
   ]
  },
  {
   "cell_type": "code",
   "execution_count": 4,
   "id": "20123cc4",
   "metadata": {},
   "outputs": [],
   "source": [
    "#polynomial transformation\n",
    "data_transform = []\n",
    "for i in range(len(data)):\n",
    "    new_space = [1,data[i][0],data[i][1],data[i][0]**2,data[i][0]*data[i][1],data[i][1]**2,data[i][1]*data[i][0]]\n",
    "    data_transform.append(new_space)"
   ]
  },
  {
   "cell_type": "code",
   "execution_count": 7,
   "id": "97b3fb0b",
   "metadata": {},
   "outputs": [],
   "source": [
    "#data_transform[0:10]"
   ]
  },
  {
   "cell_type": "code",
   "execution_count": null,
   "id": "52b28f5f",
   "metadata": {},
   "outputs": [],
   "source": [
    "#polynomial kernel \n",
    "def polynomial_kernel(xi,xj):\n",
    "    k = 1 + np.dot(xi,xj) + (np.dot(xi,xj))**2\n",
    "    return k "
   ]
  },
  {
   "cell_type": "code",
   "execution_count": 17,
   "id": "624a91a3",
   "metadata": {},
   "outputs": [],
   "source": [
    "lambdas = []\n",
    "for i in range(len(data)):\n",
    "    globals()['lambda'+str(i+1)] = sp.symbols('lambda{}'.format(i+1))\n",
    "    lambdas.append(globals()['lambda'+str(i+1)])"
   ]
  },
  {
   "cell_type": "code",
   "execution_count": null,
   "id": "61cc7699",
   "metadata": {},
   "outputs": [],
   "source": [
    "sigma_ll_yy_xx = 0 \n",
    "for i in range(len(data)):\n",
    "    for j in range(len(lambdas)):\n",
    "        sigma_ll_yy_xx += lambdas[i] * lambdas[j] * data[i][2] * data[j][2] * polynomial_kernel(data[i][0:2],data[j][0:2])\n"
   ]
  },
  {
   "cell_type": "code",
   "execution_count": null,
   "id": "d91c0d6a",
   "metadata": {},
   "outputs": [],
   "source": [
    "def lagrange_min(x):\n",
    "    sigma_lambda = 0\n",
    "    for lambda_i in lambdas:\n",
    "        sigma_lambda += lambda_i\n",
    "\n",
    "    lagrange = (sigma_lambda)-(1/2)*sigma_ll_yy_xx \n",
    "    \n",
    "    zipped = zip(lambdas,x)\n",
    "    \n",
    "    return lagrange.subs(zipped)"
   ]
  },
  {
   "cell_type": "code",
   "execution_count": null,
   "id": "651660f8",
   "metadata": {},
   "outputs": [],
   "source": [
    "#KKT:\n",
    "def sigma_lambda_y(x):\n",
    "    sigma_lambda_y = 0\n",
    "    for i in range(len(lambdas)):\n",
    "        sigma_lambda_y  += lambdas[i]*data[i][2]-0  \n",
    "    zipped = zip(lambdas,x)\n",
    "    return sigma_lambda_y.subs(zipped)\n",
    "\n",
    "x0=[2]*100\n",
    "lamb_positive = []\n",
    "for i in range(len(lambdas)):\n",
    "    globals()['bound'+str(i+1)]= (0,np.inf)\n",
    "    lamb_positive.append(globals()['bound'+str(i+1)])\n",
    "\n",
    "lamb_positive = tuple(lamb_positive)"
   ]
  },
  {
   "cell_type": "code",
   "execution_count": null,
   "id": "fd3b7d76",
   "metadata": {},
   "outputs": [],
   "source": [
    "#Minimize the Lagrangian function:\n",
    "solution_lambda = minimize(lagrange_min,x0,tol=1e-8,bounds=lamb_positive,constraints=[{'type':'eq','fun':sigma_lambda_y}])"
   ]
  },
  {
   "cell_type": "code",
   "execution_count": null,
   "id": "9c9f3929",
   "metadata": {},
   "outputs": [],
   "source": [
    "#Second attempt\n",
    "solution_lambda2 = minimize(lagrange_min,x0,tol=1e-8,method='nelder-mead')"
   ]
  },
  {
   "cell_type": "code",
   "execution_count": null,
   "id": "74fd43f0",
   "metadata": {},
   "outputs": [],
   "source": [
    "#Third attempt, using differential_evolution\n",
    "solution_lambda3 = differential_evolution(lagrange_min,bounds=lamb_positive)"
   ]
  },
  {
   "cell_type": "code",
   "execution_count": null,
   "id": "ab32410d",
   "metadata": {},
   "outputs": [],
   "source": [
    "#W*\n",
    "\n",
    "w_star = []\n",
    "\n",
    "for i in range(len(data)):\n",
    "    lambdai_yi_xi = [(list(solution_lambda.values())[i]*data[i][2])*x for x in data_transform[i][0:6]]\n",
    "    w_star = np.sum([w_star,lambdai_yi_xi],axis=0)\n",
    "\n",
    "w_star = w_star.tolist()"
   ]
  },
  {
   "cell_type": "code",
   "execution_count": null,
   "id": "dea59fb8",
   "metadata": {},
   "outputs": [],
   "source": [
    "#b* "
   ]
  }
 ],
 "metadata": {
  "kernelspec": {
   "display_name": "Python 3 (ipykernel)",
   "language": "python",
   "name": "python3"
  },
  "language_info": {
   "codemirror_mode": {
    "name": "ipython",
    "version": 3
   },
   "file_extension": ".py",
   "mimetype": "text/x-python",
   "name": "python",
   "nbconvert_exporter": "python",
   "pygments_lexer": "ipython3",
   "version": "3.9.7"
  }
 },
 "nbformat": 4,
 "nbformat_minor": 5
}
