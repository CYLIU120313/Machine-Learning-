{
 "cells": [
  {
   "cell_type": "markdown",
   "id": "b8fc28cb",
   "metadata": {},
   "source": [
    "# Linear Regression"
   ]
  },
  {
   "cell_type": "code",
   "execution_count": null,
   "id": "fd0f1378",
   "metadata": {},
   "outputs": [],
   "source": [
    "import pandas as pd\n",
    "import numpy as np\n",
    "from numpy.linalg import eig"
   ]
  },
  {
   "cell_type": "code",
   "execution_count": 2,
   "id": "7b9eade0",
   "metadata": {},
   "outputs": [],
   "source": [
    "#Read in the dataset 'linear regression'\n",
    "dataset = pd.read_table('linear-regression.txt',header = None, sep=',',names=['x1','x2','y'])\n",
    "\n",
    "#Add X0=1 to each data point:\n",
    "x0 = []\n",
    "for i in range(len(dataset)):\n",
    "    x0.append(1)\n",
    "\n",
    "first_col = pd.DataFrame(columns=['x0'],data=x0)\n",
    "\n",
    "dataset = first_col.merge(dataset,how='inner',left_index=True, right_index=True)"
   ]
  },
  {
   "cell_type": "code",
   "execution_count": 3,
   "id": "14739d0d",
   "metadata": {},
   "outputs": [
    {
     "data": {
      "text/html": [
       "<div>\n",
       "<style scoped>\n",
       "    .dataframe tbody tr th:only-of-type {\n",
       "        vertical-align: middle;\n",
       "    }\n",
       "\n",
       "    .dataframe tbody tr th {\n",
       "        vertical-align: top;\n",
       "    }\n",
       "\n",
       "    .dataframe thead th {\n",
       "        text-align: right;\n",
       "    }\n",
       "</style>\n",
       "<table border=\"1\" class=\"dataframe\">\n",
       "  <thead>\n",
       "    <tr style=\"text-align: right;\">\n",
       "      <th></th>\n",
       "      <th>x0</th>\n",
       "      <th>x1</th>\n",
       "      <th>x2</th>\n",
       "      <th>y</th>\n",
       "    </tr>\n",
       "  </thead>\n",
       "  <tbody>\n",
       "    <tr>\n",
       "      <th>0</th>\n",
       "      <td>1</td>\n",
       "      <td>0.693781</td>\n",
       "      <td>0.697544</td>\n",
       "      <td>3.252290</td>\n",
       "    </tr>\n",
       "    <tr>\n",
       "      <th>1</th>\n",
       "      <td>1</td>\n",
       "      <td>0.693737</td>\n",
       "      <td>0.575576</td>\n",
       "      <td>2.898651</td>\n",
       "    </tr>\n",
       "    <tr>\n",
       "      <th>2</th>\n",
       "      <td>1</td>\n",
       "      <td>0.000576</td>\n",
       "      <td>0.458192</td>\n",
       "      <td>1.986979</td>\n",
       "    </tr>\n",
       "    <tr>\n",
       "      <th>3</th>\n",
       "      <td>1</td>\n",
       "      <td>0.194953</td>\n",
       "      <td>0.470199</td>\n",
       "      <td>2.272075</td>\n",
       "    </tr>\n",
       "    <tr>\n",
       "      <th>4</th>\n",
       "      <td>1</td>\n",
       "      <td>0.031775</td>\n",
       "      <td>0.026546</td>\n",
       "      <td>0.231178</td>\n",
       "    </tr>\n",
       "    <tr>\n",
       "      <th>...</th>\n",
       "      <td>...</td>\n",
       "      <td>...</td>\n",
       "      <td>...</td>\n",
       "      <td>...</td>\n",
       "    </tr>\n",
       "    <tr>\n",
       "      <th>2995</th>\n",
       "      <td>1</td>\n",
       "      <td>0.675794</td>\n",
       "      <td>0.966809</td>\n",
       "      <td>4.710966</td>\n",
       "    </tr>\n",
       "    <tr>\n",
       "      <th>2996</th>\n",
       "      <td>1</td>\n",
       "      <td>0.956208</td>\n",
       "      <td>0.406283</td>\n",
       "      <td>2.415559</td>\n",
       "    </tr>\n",
       "    <tr>\n",
       "      <th>2997</th>\n",
       "      <td>1</td>\n",
       "      <td>0.153261</td>\n",
       "      <td>0.428193</td>\n",
       "      <td>1.717719</td>\n",
       "    </tr>\n",
       "    <tr>\n",
       "      <th>2998</th>\n",
       "      <td>1</td>\n",
       "      <td>0.604550</td>\n",
       "      <td>0.862078</td>\n",
       "      <td>4.106854</td>\n",
       "    </tr>\n",
       "    <tr>\n",
       "      <th>2999</th>\n",
       "      <td>1</td>\n",
       "      <td>0.212577</td>\n",
       "      <td>0.115652</td>\n",
       "      <td>0.585631</td>\n",
       "    </tr>\n",
       "  </tbody>\n",
       "</table>\n",
       "<p>3000 rows × 4 columns</p>\n",
       "</div>"
      ],
      "text/plain": [
       "      x0        x1        x2         y\n",
       "0      1  0.693781  0.697544  3.252290\n",
       "1      1  0.693737  0.575576  2.898651\n",
       "2      1  0.000576  0.458192  1.986979\n",
       "3      1  0.194953  0.470199  2.272075\n",
       "4      1  0.031775  0.026546  0.231178\n",
       "...   ..       ...       ...       ...\n",
       "2995   1  0.675794  0.966809  4.710966\n",
       "2996   1  0.956208  0.406283  2.415559\n",
       "2997   1  0.153261  0.428193  1.717719\n",
       "2998   1  0.604550  0.862078  4.106854\n",
       "2999   1  0.212577  0.115652  0.585631\n",
       "\n",
       "[3000 rows x 4 columns]"
      ]
     },
     "execution_count": 3,
     "metadata": {},
     "output_type": "execute_result"
    }
   ],
   "source": [
    "#Check our dataset:\n",
    "dataset"
   ]
  },
  {
   "cell_type": "code",
   "execution_count": 4,
   "id": "62cf3f84",
   "metadata": {},
   "outputs": [],
   "source": [
    "#Define matrix Y for dependent variable:\n",
    "Y = np.matrix(dataset.loc[:,['y']])"
   ]
  },
  {
   "cell_type": "code",
   "execution_count": 5,
   "id": "373f2dd1",
   "metadata": {},
   "outputs": [],
   "source": [
    "#Define matrix X,which stores the independent variables for each data point:\n",
    "X = np.matrix(dataset.drop(['y'],axis=1))"
   ]
  },
  {
   "cell_type": "code",
   "execution_count": 6,
   "id": "959fe9ec",
   "metadata": {},
   "outputs": [],
   "source": [
    "#Calculate the weights(parameters of the regression line), using least square method:\n",
    "W = (np.linalg.inv(X.T*X))*(X.T)*Y"
   ]
  },
  {
   "cell_type": "code",
   "execution_count": 7,
   "id": "971f2206",
   "metadata": {},
   "outputs": [
    {
     "data": {
      "text/plain": [
       "matrix([[0.01523535],\n",
       "        [1.08546357],\n",
       "        [3.99068855]])"
      ]
     },
     "execution_count": 7,
     "metadata": {},
     "output_type": "execute_result"
    }
   ],
   "source": [
    "W"
   ]
  },
  {
   "cell_type": "code",
   "execution_count": 13,
   "id": "aff3c6c6",
   "metadata": {},
   "outputs": [],
   "source": [
    "#Calculate the model accuracy rate(R-squared value):\n",
    "ε = Y-np.dot(X,W)\n",
    "SSE = ε.T*ε \n",
    "total_variance = (Y-np.average(Y)).T*(Y-np.average(Y))\n",
    "R_squared = 1-(SSE/total_variance)"
   ]
  },
  {
   "cell_type": "code",
   "execution_count": 14,
   "id": "a6799094",
   "metadata": {},
   "outputs": [
    {
     "name": "stdout",
     "output_type": "stream",
     "text": [
      "The R-squared value of our linear model is [[0.97225157]]\n"
     ]
    }
   ],
   "source": [
    "print('The R-squared value of our linear model is',R_squared)"
   ]
  }
 ],
 "metadata": {
  "kernelspec": {
   "display_name": "Python 3 (ipykernel)",
   "language": "python",
   "name": "python3"
  },
  "language_info": {
   "codemirror_mode": {
    "name": "ipython",
    "version": 3
   },
   "file_extension": ".py",
   "mimetype": "text/x-python",
   "name": "python",
   "nbconvert_exporter": "python",
   "pygments_lexer": "ipython3",
   "version": "3.9.7"
  }
 },
 "nbformat": 4,
 "nbformat_minor": 5
}
