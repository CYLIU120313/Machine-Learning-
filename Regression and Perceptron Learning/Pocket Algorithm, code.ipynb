{
 "cells": [
  {
   "cell_type": "markdown",
   "id": "2b375c9b",
   "metadata": {},
   "source": [
    "# Pocket Algorithm"
   ]
  },
  {
   "cell_type": "code",
   "execution_count": 1,
   "id": "71b14d3e",
   "metadata": {},
   "outputs": [],
   "source": [
    "import numpy as np\n",
    "import pandas as pd\n",
    "import random\n",
    "import matplotlib.pyplot as plt"
   ]
  },
  {
   "cell_type": "code",
   "execution_count": 2,
   "id": "8b9d2405",
   "metadata": {},
   "outputs": [],
   "source": [
    "#Read the dataset 'classification',remove the last column:\n",
    "dataset = pd.read_table('classification.txt',sep=',',header=None,names=['x1','x2','x3','na','label'])\n",
    "dataset = dataset.drop(['na'],axis=1)\n",
    "\n",
    "#Add the first column-X0:\n",
    "x0 = []\n",
    "for i in range(len(dataset)):\n",
    "    x0.append(1)\n",
    "\n",
    "first_col = pd.DataFrame(columns=['x0'],data=x0)\n",
    "\n",
    "dataset = first_col.merge(dataset,how='inner',left_index=True, right_index=True)"
   ]
  },
  {
   "cell_type": "code",
   "execution_count": 3,
   "id": "4289fb9d",
   "metadata": {},
   "outputs": [
    {
     "data": {
      "text/html": [
       "<div>\n",
       "<style scoped>\n",
       "    .dataframe tbody tr th:only-of-type {\n",
       "        vertical-align: middle;\n",
       "    }\n",
       "\n",
       "    .dataframe tbody tr th {\n",
       "        vertical-align: top;\n",
       "    }\n",
       "\n",
       "    .dataframe thead th {\n",
       "        text-align: right;\n",
       "    }\n",
       "</style>\n",
       "<table border=\"1\" class=\"dataframe\">\n",
       "  <thead>\n",
       "    <tr style=\"text-align: right;\">\n",
       "      <th></th>\n",
       "      <th>x0</th>\n",
       "      <th>x1</th>\n",
       "      <th>x2</th>\n",
       "      <th>x3</th>\n",
       "      <th>label</th>\n",
       "    </tr>\n",
       "  </thead>\n",
       "  <tbody>\n",
       "    <tr>\n",
       "      <th>0</th>\n",
       "      <td>1</td>\n",
       "      <td>0.750072</td>\n",
       "      <td>0.977408</td>\n",
       "      <td>0.885658</td>\n",
       "      <td>1</td>\n",
       "    </tr>\n",
       "    <tr>\n",
       "      <th>1</th>\n",
       "      <td>1</td>\n",
       "      <td>0.877914</td>\n",
       "      <td>0.019251</td>\n",
       "      <td>0.506711</td>\n",
       "      <td>-1</td>\n",
       "    </tr>\n",
       "    <tr>\n",
       "      <th>2</th>\n",
       "      <td>1</td>\n",
       "      <td>0.777325</td>\n",
       "      <td>0.994066</td>\n",
       "      <td>0.822244</td>\n",
       "      <td>1</td>\n",
       "    </tr>\n",
       "    <tr>\n",
       "      <th>3</th>\n",
       "      <td>1</td>\n",
       "      <td>0.181158</td>\n",
       "      <td>0.460749</td>\n",
       "      <td>0.525477</td>\n",
       "      <td>1</td>\n",
       "    </tr>\n",
       "    <tr>\n",
       "      <th>4</th>\n",
       "      <td>1</td>\n",
       "      <td>0.114564</td>\n",
       "      <td>0.067555</td>\n",
       "      <td>0.128920</td>\n",
       "      <td>1</td>\n",
       "    </tr>\n",
       "    <tr>\n",
       "      <th>...</th>\n",
       "      <td>...</td>\n",
       "      <td>...</td>\n",
       "      <td>...</td>\n",
       "      <td>...</td>\n",
       "      <td>...</td>\n",
       "    </tr>\n",
       "    <tr>\n",
       "      <th>1995</th>\n",
       "      <td>1</td>\n",
       "      <td>0.302021</td>\n",
       "      <td>0.049354</td>\n",
       "      <td>0.973333</td>\n",
       "      <td>-1</td>\n",
       "    </tr>\n",
       "    <tr>\n",
       "      <th>1996</th>\n",
       "      <td>1</td>\n",
       "      <td>0.196709</td>\n",
       "      <td>0.598557</td>\n",
       "      <td>0.252530</td>\n",
       "      <td>-1</td>\n",
       "    </tr>\n",
       "    <tr>\n",
       "      <th>1997</th>\n",
       "      <td>1</td>\n",
       "      <td>0.515506</td>\n",
       "      <td>0.153544</td>\n",
       "      <td>0.012755</td>\n",
       "      <td>1</td>\n",
       "    </tr>\n",
       "    <tr>\n",
       "      <th>1998</th>\n",
       "      <td>1</td>\n",
       "      <td>0.228226</td>\n",
       "      <td>0.971554</td>\n",
       "      <td>0.183059</td>\n",
       "      <td>1</td>\n",
       "    </tr>\n",
       "    <tr>\n",
       "      <th>1999</th>\n",
       "      <td>1</td>\n",
       "      <td>0.363915</td>\n",
       "      <td>0.492071</td>\n",
       "      <td>0.719527</td>\n",
       "      <td>1</td>\n",
       "    </tr>\n",
       "  </tbody>\n",
       "</table>\n",
       "<p>2000 rows × 5 columns</p>\n",
       "</div>"
      ],
      "text/plain": [
       "      x0        x1        x2        x3  label\n",
       "0      1  0.750072  0.977408  0.885658      1\n",
       "1      1  0.877914  0.019251  0.506711     -1\n",
       "2      1  0.777325  0.994066  0.822244      1\n",
       "3      1  0.181158  0.460749  0.525477      1\n",
       "4      1  0.114564  0.067555  0.128920      1\n",
       "...   ..       ...       ...       ...    ...\n",
       "1995   1  0.302021  0.049354  0.973333     -1\n",
       "1996   1  0.196709  0.598557  0.252530     -1\n",
       "1997   1  0.515506  0.153544  0.012755      1\n",
       "1998   1  0.228226  0.971554  0.183059      1\n",
       "1999   1  0.363915  0.492071  0.719527      1\n",
       "\n",
       "[2000 rows x 5 columns]"
      ]
     },
     "execution_count": 3,
     "metadata": {},
     "output_type": "execute_result"
    }
   ],
   "source": [
    "#Check our dataset:\n",
    "dataset"
   ]
  },
  {
   "cell_type": "code",
   "execution_count": 32,
   "id": "7593c7a1",
   "metadata": {},
   "outputs": [],
   "source": [
    "#Divide our dataset into X(coordinates of points) and Y(label):\n",
    "X = dataset.drop(['label'],axis=1)\n",
    "Y = dataset.loc[:,'label']  \n",
    "#print(X)\n",
    "#print(Y)"
   ]
  },
  {
   "cell_type": "code",
   "execution_count": 33,
   "id": "226fe9d3",
   "metadata": {},
   "outputs": [
    {
     "name": "stdout",
     "output_type": "stream",
     "text": [
      "The initial weights are [0.78998745 0.95451615 0.35463112 0.86410985]\n"
     ]
    }
   ],
   "source": [
    "#Randomize the initial weights:\n",
    "weights = (np.random.random(4))  \n",
    "print('The initial weights are',weights)"
   ]
  },
  {
   "cell_type": "code",
   "execution_count": 34,
   "id": "67bd53e4",
   "metadata": {},
   "outputs": [],
   "source": [
    "#Define a function for pocket algorithm error rate, using it as a standard to update weights:\n",
    "def error_rate (data,w,x,y):\n",
    "    n_error = 0\n",
    "    for i in range(len(data)):\n",
    "        if np.dot(w,(np.array(x.iloc[i]))) >= 0 and y.iloc[i] == -1:\n",
    "            n_error += 1\n",
    "        elif np.dot(w,(np.array(x.iloc[i]))) < 0 and y.iloc[i] == 1:\n",
    "            n_error += 1\n",
    "        else:\n",
    "            pass\n",
    "    return n_error/(len(data))"
   ]
  },
  {
   "cell_type": "code",
   "execution_count": 39,
   "id": "be29a12c",
   "metadata": {},
   "outputs": [],
   "source": [
    "#Define the pocket PLA function: \n",
    "def pocket_algorithm (data,x,y,w,n_iteration,alpha):\n",
    "    n = 0\n",
    "    error = []\n",
    "    while n < n_iteration:\n",
    "        n+=1        \n",
    "        for i in range(len(data)):\n",
    "            thershold = np.dot(w,(np.array(x.iloc[i])))\n",
    "            old_error = error_rate(data,w,x,y)\n",
    "            \n",
    "            if thershold < 0 and y.iloc[i] == 1:  #Pick the violated data points \n",
    "                new_weights = w + alpha * np.array(x.iloc[i])\n",
    "                new_error = error_rate(data,new_weights,x,y)\n",
    "                \n",
    "                if new_error < old_error:\n",
    "                    w = new_weights \n",
    "                    error.append(new_error*2000)  #Update the weight values \n",
    "                    break\n",
    "                else:\n",
    "                    continue\n",
    "                    \n",
    "            elif thershold >= 0 and y.iloc[i] == -1:  #Pick the violated data points \n",
    "                new_weights = w - alpha * np.array(x.iloc[i])\n",
    "                new_error = error_rate(data,new_weights,x,y)\n",
    "   \n",
    "                if new_error < old_error:\n",
    "                    w = new_weights               #Update the weight values\n",
    "                    error.append(new_error*2000)\n",
    "                    break\n",
    "                else:\n",
    "                    continue\n",
    "            else:\n",
    "                continue \n",
    "    \n",
    "    print('The weights after Pocket PLA iterates',n_iteration,'times are',w)    \n",
    "    return w"
   ]
  },
  {
   "cell_type": "code",
   "execution_count": 40,
   "id": "c8bdc37d",
   "metadata": {},
   "outputs": [
    {
     "name": "stdout",
     "output_type": "stream",
     "text": [
      "The weights after Pocket PLA iterates 7000 times are [   0.78998745 -103.55879573   66.57939575    3.67893239]\n"
     ]
    }
   ],
   "source": [
    "#Run the Pocket algorithm 7000 times:\n",
    "#Set alpha (learning rate) = 0.01\n",
    "\n",
    "w7000=pocket_algorithm (dataset,X,Y,weights,7000,0.01)"
   ]
  },
  {
   "cell_type": "code",
   "execution_count": 41,
   "id": "8888a50b",
   "metadata": {},
   "outputs": [
    {
     "name": "stdout",
     "output_type": "stream",
     "text": [
      "The number of misclassified points after model iterates 7000 times is 971.0\n"
     ]
    }
   ],
   "source": [
    "e7000=error_rate(dataset,w7000,X,Y)\n",
    "print('The number of misclassified points after model iterates 7000 times is',(e7000*2000))"
   ]
  },
  {
   "cell_type": "code",
   "execution_count": 42,
   "id": "dba42476",
   "metadata": {},
   "outputs": [
    {
     "name": "stdout",
     "output_type": "stream",
     "text": [
      "The accuracy rate of Pocket PLA after model iterates 7000 times is 0.5145\n"
     ]
    }
   ],
   "source": [
    "#Calculate the model accuracy rate, which equals to 1-error rate \n",
    "accuracy = 1-e7000\n",
    "print ('The accuracy rate of Pocket PLA after model iterates 7000 times is',accuracy)"
   ]
  }
 ],
 "metadata": {
  "kernelspec": {
   "display_name": "Python 3 (ipykernel)",
   "language": "python",
   "name": "python3"
  },
  "language_info": {
   "codemirror_mode": {
    "name": "ipython",
    "version": 3
   },
   "file_extension": ".py",
   "mimetype": "text/x-python",
   "name": "python",
   "nbconvert_exporter": "python",
   "pygments_lexer": "ipython3",
   "version": "3.9.7"
  }
 },
 "nbformat": 4,
 "nbformat_minor": 5
}
