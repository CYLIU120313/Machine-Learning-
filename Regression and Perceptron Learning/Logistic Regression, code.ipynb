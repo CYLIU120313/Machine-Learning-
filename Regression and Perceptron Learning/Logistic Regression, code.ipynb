{
 "cells": [
  {
   "cell_type": "markdown",
   "id": "6b3a087a",
   "metadata": {},
   "source": [
    "# Logistic Regression\n"
   ]
  },
  {
   "cell_type": "code",
   "execution_count": null,
   "id": "6d800223",
   "metadata": {},
   "outputs": [],
   "source": [
    "import numpy as np\n",
    "import pandas as pd\n",
    "import math"
   ]
  },
  {
   "cell_type": "code",
   "execution_count": 2,
   "id": "423615fa",
   "metadata": {},
   "outputs": [],
   "source": [
    "#Read in the dataset 'classification'\n",
    "dataset = pd.read_table('classification.txt',sep=',',header=None,names=['x1','x2','x3','na','label'])\n",
    "dataset = dataset.drop(['na'],axis=1)\n",
    "\n",
    "#Add the X0=1 to each data point:\n",
    "x0 = []\n",
    "for i in range(len(dataset)):\n",
    "    x0.append(1)\n",
    "\n",
    "first_col = pd.DataFrame(columns=['x0'],data=x0)\n",
    "\n",
    "dataset = first_col.merge(dataset,how='inner',left_index=True, right_index=True)"
   ]
  },
  {
   "cell_type": "code",
   "execution_count": 3,
   "id": "52cde399",
   "metadata": {},
   "outputs": [
    {
     "data": {
      "text/html": [
       "<div>\n",
       "<style scoped>\n",
       "    .dataframe tbody tr th:only-of-type {\n",
       "        vertical-align: middle;\n",
       "    }\n",
       "\n",
       "    .dataframe tbody tr th {\n",
       "        vertical-align: top;\n",
       "    }\n",
       "\n",
       "    .dataframe thead th {\n",
       "        text-align: right;\n",
       "    }\n",
       "</style>\n",
       "<table border=\"1\" class=\"dataframe\">\n",
       "  <thead>\n",
       "    <tr style=\"text-align: right;\">\n",
       "      <th></th>\n",
       "      <th>x0</th>\n",
       "      <th>x1</th>\n",
       "      <th>x2</th>\n",
       "      <th>x3</th>\n",
       "      <th>label</th>\n",
       "    </tr>\n",
       "  </thead>\n",
       "  <tbody>\n",
       "    <tr>\n",
       "      <th>0</th>\n",
       "      <td>1</td>\n",
       "      <td>0.750072</td>\n",
       "      <td>0.977408</td>\n",
       "      <td>0.885658</td>\n",
       "      <td>1</td>\n",
       "    </tr>\n",
       "    <tr>\n",
       "      <th>1</th>\n",
       "      <td>1</td>\n",
       "      <td>0.877914</td>\n",
       "      <td>0.019251</td>\n",
       "      <td>0.506711</td>\n",
       "      <td>-1</td>\n",
       "    </tr>\n",
       "    <tr>\n",
       "      <th>2</th>\n",
       "      <td>1</td>\n",
       "      <td>0.777325</td>\n",
       "      <td>0.994066</td>\n",
       "      <td>0.822244</td>\n",
       "      <td>1</td>\n",
       "    </tr>\n",
       "    <tr>\n",
       "      <th>3</th>\n",
       "      <td>1</td>\n",
       "      <td>0.181158</td>\n",
       "      <td>0.460749</td>\n",
       "      <td>0.525477</td>\n",
       "      <td>1</td>\n",
       "    </tr>\n",
       "    <tr>\n",
       "      <th>4</th>\n",
       "      <td>1</td>\n",
       "      <td>0.114564</td>\n",
       "      <td>0.067555</td>\n",
       "      <td>0.128920</td>\n",
       "      <td>1</td>\n",
       "    </tr>\n",
       "    <tr>\n",
       "      <th>...</th>\n",
       "      <td>...</td>\n",
       "      <td>...</td>\n",
       "      <td>...</td>\n",
       "      <td>...</td>\n",
       "      <td>...</td>\n",
       "    </tr>\n",
       "    <tr>\n",
       "      <th>1995</th>\n",
       "      <td>1</td>\n",
       "      <td>0.302021</td>\n",
       "      <td>0.049354</td>\n",
       "      <td>0.973333</td>\n",
       "      <td>-1</td>\n",
       "    </tr>\n",
       "    <tr>\n",
       "      <th>1996</th>\n",
       "      <td>1</td>\n",
       "      <td>0.196709</td>\n",
       "      <td>0.598557</td>\n",
       "      <td>0.252530</td>\n",
       "      <td>-1</td>\n",
       "    </tr>\n",
       "    <tr>\n",
       "      <th>1997</th>\n",
       "      <td>1</td>\n",
       "      <td>0.515506</td>\n",
       "      <td>0.153544</td>\n",
       "      <td>0.012755</td>\n",
       "      <td>1</td>\n",
       "    </tr>\n",
       "    <tr>\n",
       "      <th>1998</th>\n",
       "      <td>1</td>\n",
       "      <td>0.228226</td>\n",
       "      <td>0.971554</td>\n",
       "      <td>0.183059</td>\n",
       "      <td>1</td>\n",
       "    </tr>\n",
       "    <tr>\n",
       "      <th>1999</th>\n",
       "      <td>1</td>\n",
       "      <td>0.363915</td>\n",
       "      <td>0.492071</td>\n",
       "      <td>0.719527</td>\n",
       "      <td>1</td>\n",
       "    </tr>\n",
       "  </tbody>\n",
       "</table>\n",
       "<p>2000 rows × 5 columns</p>\n",
       "</div>"
      ],
      "text/plain": [
       "      x0        x1        x2        x3  label\n",
       "0      1  0.750072  0.977408  0.885658      1\n",
       "1      1  0.877914  0.019251  0.506711     -1\n",
       "2      1  0.777325  0.994066  0.822244      1\n",
       "3      1  0.181158  0.460749  0.525477      1\n",
       "4      1  0.114564  0.067555  0.128920      1\n",
       "...   ..       ...       ...       ...    ...\n",
       "1995   1  0.302021  0.049354  0.973333     -1\n",
       "1996   1  0.196709  0.598557  0.252530     -1\n",
       "1997   1  0.515506  0.153544  0.012755      1\n",
       "1998   1  0.228226  0.971554  0.183059      1\n",
       "1999   1  0.363915  0.492071  0.719527      1\n",
       "\n",
       "[2000 rows x 5 columns]"
      ]
     },
     "execution_count": 3,
     "metadata": {},
     "output_type": "execute_result"
    }
   ],
   "source": [
    "#Check our dataset\n",
    "dataset"
   ]
  },
  {
   "cell_type": "code",
   "execution_count": 4,
   "id": "7d55129c",
   "metadata": {},
   "outputs": [],
   "source": [
    "#Divide our dataset into X(coordinates of points) and Y(label):\n",
    "X = dataset.drop(['label'],axis=1)\n",
    "Y = dataset.loc[:,'label']  "
   ]
  },
  {
   "cell_type": "code",
   "execution_count": 5,
   "id": "692db274",
   "metadata": {},
   "outputs": [
    {
     "name": "stdout",
     "output_type": "stream",
     "text": [
      "The initial weights are [0.37727986 0.0682116  0.33581682 0.0951821 ]\n"
     ]
    }
   ],
   "source": [
    "#Randomize the initial weights:\n",
    "weights = np.random.random(4)\n",
    "print('The initial weights are',weights)"
   ]
  },
  {
   "cell_type": "code",
   "execution_count": 6,
   "id": "bb61daeb",
   "metadata": {},
   "outputs": [],
   "source": [
    "#Define sigmoid function:\n",
    "def sigmoid(s):\n",
    "    sig = 1/(1 + np.exp(-s))\n",
    "    return sig "
   ]
  },
  {
   "cell_type": "code",
   "execution_count": 7,
   "id": "a7fa6d16",
   "metadata": {},
   "outputs": [
    {
     "name": "stdout",
     "output_type": "stream",
     "text": [
      "The initial cost of Logistic Regression is 1.0622678621172403\n"
     ]
    }
   ],
   "source": [
    "#Calculate the cost, using cost function:\n",
    "summation_cost_init = 0\n",
    "for i in range(len(dataset)):\n",
    "    xi = X.iloc[i]\n",
    "    yi = Y.iloc[i]\n",
    "    summation_cost_init = summation_cost_init + ((yi*np.log(sigmoid(np.dot(weights,xi)))) \n",
    "                             + ((1-yi)*np.log(1-sigmoid(np.dot(weights,xi)))))\n",
    "cost_init = (-1/2000)*summation_cost_init\n",
    "print('The initial cost of Logistic Regression is',cost_init)"
   ]
  },
  {
   "cell_type": "code",
   "execution_count": 8,
   "id": "c4cb823b",
   "metadata": {},
   "outputs": [],
   "source": [
    "#Define iteration times and the learning rate alpha:\n",
    "n_iteration=7000\n",
    "alpha = 0.01 \n",
    "n=0"
   ]
  },
  {
   "cell_type": "code",
   "execution_count": 9,
   "id": "58ffbae1",
   "metadata": {},
   "outputs": [
    {
     "name": "stdout",
     "output_type": "stream",
     "text": [
      "The weights of logistic regression after 7000 times iteration is [-3.33088092 -2.13445914 -1.10370491 -1.38789613]\n"
     ]
    }
   ],
   "source": [
    "#Update the weights 7000 times:\n",
    "while n < n_iteration:\n",
    "    weights =  weights- alpha*(1/2000)*np.dot((X.T),(sigmoid(np.dot(X,weights))-Y))\n",
    "    n=n+1\n",
    "print('The weights of logistic regression after',n_iteration,'times iteration is',weights)    "
   ]
  },
  {
   "cell_type": "code",
   "execution_count": 10,
   "id": "36048f74",
   "metadata": {},
   "outputs": [
    {
     "name": "stdout",
     "output_type": "stream",
     "text": [
      "The cost of Logistic Regression after 7000 times iteration is -0.06893605176642506\n"
     ]
    }
   ],
   "source": [
    "#Calculate the cost after weights updated; the value of cost should be lower \n",
    "summation_cost_end = 0\n",
    "for i in range(len(dataset)):\n",
    "    xi = X.iloc[i]\n",
    "    yi = Y.iloc[i]\n",
    "    summation_cost_end = summation_cost_end + ((yi*np.log(sigmoid(np.dot(weights,xi)))) \n",
    "                             + ((1-yi)*np.log(1-sigmoid(np.dot(weights,xi)))))\n",
    "    \n",
    "cost_end = (-1/2000)*summation_cost_end\n",
    "print('The cost of Logistic Regression after',n_iteration,'times iteration is',cost_end)"
   ]
  },
  {
   "cell_type": "code",
   "execution_count": 11,
   "id": "2d099641",
   "metadata": {},
   "outputs": [],
   "source": [
    "#Add the predicted results to our dataset:\n",
    "predict=[]\n",
    "for i in range(len(dataset)):\n",
    "    xi = X.iloc[i]\n",
    "    yi = Y.iloc[i]\n",
    "    if sigmoid(np.dot(weights,xi)) >= 0.5:\n",
    "        predict.append(1)\n",
    "    elif sigmoid(np.dot(weights,xi)) < 0.5:\n",
    "        predict.append(-1)\n",
    "        \n",
    "predict_col = pd.DataFrame(columns=['predicted label'],data=predict)\n",
    "new_dataset = dataset.merge(predict_col,how='inner',left_index=True, right_index=True)   "
   ]
  },
  {
   "cell_type": "code",
   "execution_count": 13,
   "id": "5db85dfe",
   "metadata": {},
   "outputs": [
    {
     "data": {
      "text/html": [
       "<div>\n",
       "<style scoped>\n",
       "    .dataframe tbody tr th:only-of-type {\n",
       "        vertical-align: middle;\n",
       "    }\n",
       "\n",
       "    .dataframe tbody tr th {\n",
       "        vertical-align: top;\n",
       "    }\n",
       "\n",
       "    .dataframe thead th {\n",
       "        text-align: right;\n",
       "    }\n",
       "</style>\n",
       "<table border=\"1\" class=\"dataframe\">\n",
       "  <thead>\n",
       "    <tr style=\"text-align: right;\">\n",
       "      <th></th>\n",
       "      <th>x0</th>\n",
       "      <th>x1</th>\n",
       "      <th>x2</th>\n",
       "      <th>x3</th>\n",
       "      <th>label</th>\n",
       "      <th>predicted label</th>\n",
       "    </tr>\n",
       "  </thead>\n",
       "  <tbody>\n",
       "    <tr>\n",
       "      <th>0</th>\n",
       "      <td>1</td>\n",
       "      <td>0.750072</td>\n",
       "      <td>0.977408</td>\n",
       "      <td>0.885658</td>\n",
       "      <td>1</td>\n",
       "      <td>-1</td>\n",
       "    </tr>\n",
       "    <tr>\n",
       "      <th>1</th>\n",
       "      <td>1</td>\n",
       "      <td>0.877914</td>\n",
       "      <td>0.019251</td>\n",
       "      <td>0.506711</td>\n",
       "      <td>-1</td>\n",
       "      <td>-1</td>\n",
       "    </tr>\n",
       "    <tr>\n",
       "      <th>2</th>\n",
       "      <td>1</td>\n",
       "      <td>0.777325</td>\n",
       "      <td>0.994066</td>\n",
       "      <td>0.822244</td>\n",
       "      <td>1</td>\n",
       "      <td>-1</td>\n",
       "    </tr>\n",
       "    <tr>\n",
       "      <th>3</th>\n",
       "      <td>1</td>\n",
       "      <td>0.181158</td>\n",
       "      <td>0.460749</td>\n",
       "      <td>0.525477</td>\n",
       "      <td>1</td>\n",
       "      <td>-1</td>\n",
       "    </tr>\n",
       "    <tr>\n",
       "      <th>4</th>\n",
       "      <td>1</td>\n",
       "      <td>0.114564</td>\n",
       "      <td>0.067555</td>\n",
       "      <td>0.128920</td>\n",
       "      <td>1</td>\n",
       "      <td>-1</td>\n",
       "    </tr>\n",
       "    <tr>\n",
       "      <th>...</th>\n",
       "      <td>...</td>\n",
       "      <td>...</td>\n",
       "      <td>...</td>\n",
       "      <td>...</td>\n",
       "      <td>...</td>\n",
       "      <td>...</td>\n",
       "    </tr>\n",
       "    <tr>\n",
       "      <th>1995</th>\n",
       "      <td>1</td>\n",
       "      <td>0.302021</td>\n",
       "      <td>0.049354</td>\n",
       "      <td>0.973333</td>\n",
       "      <td>-1</td>\n",
       "      <td>-1</td>\n",
       "    </tr>\n",
       "    <tr>\n",
       "      <th>1996</th>\n",
       "      <td>1</td>\n",
       "      <td>0.196709</td>\n",
       "      <td>0.598557</td>\n",
       "      <td>0.252530</td>\n",
       "      <td>-1</td>\n",
       "      <td>-1</td>\n",
       "    </tr>\n",
       "    <tr>\n",
       "      <th>1997</th>\n",
       "      <td>1</td>\n",
       "      <td>0.515506</td>\n",
       "      <td>0.153544</td>\n",
       "      <td>0.012755</td>\n",
       "      <td>1</td>\n",
       "      <td>-1</td>\n",
       "    </tr>\n",
       "    <tr>\n",
       "      <th>1998</th>\n",
       "      <td>1</td>\n",
       "      <td>0.228226</td>\n",
       "      <td>0.971554</td>\n",
       "      <td>0.183059</td>\n",
       "      <td>1</td>\n",
       "      <td>-1</td>\n",
       "    </tr>\n",
       "    <tr>\n",
       "      <th>1999</th>\n",
       "      <td>1</td>\n",
       "      <td>0.363915</td>\n",
       "      <td>0.492071</td>\n",
       "      <td>0.719527</td>\n",
       "      <td>1</td>\n",
       "      <td>-1</td>\n",
       "    </tr>\n",
       "  </tbody>\n",
       "</table>\n",
       "<p>2000 rows × 6 columns</p>\n",
       "</div>"
      ],
      "text/plain": [
       "      x0        x1        x2        x3  label  predicted label\n",
       "0      1  0.750072  0.977408  0.885658      1               -1\n",
       "1      1  0.877914  0.019251  0.506711     -1               -1\n",
       "2      1  0.777325  0.994066  0.822244      1               -1\n",
       "3      1  0.181158  0.460749  0.525477      1               -1\n",
       "4      1  0.114564  0.067555  0.128920      1               -1\n",
       "...   ..       ...       ...       ...    ...              ...\n",
       "1995   1  0.302021  0.049354  0.973333     -1               -1\n",
       "1996   1  0.196709  0.598557  0.252530     -1               -1\n",
       "1997   1  0.515506  0.153544  0.012755      1               -1\n",
       "1998   1  0.228226  0.971554  0.183059      1               -1\n",
       "1999   1  0.363915  0.492071  0.719527      1               -1\n",
       "\n",
       "[2000 rows x 6 columns]"
      ]
     },
     "execution_count": 13,
     "metadata": {},
     "output_type": "execute_result"
    }
   ],
   "source": [
    "new_dataset"
   ]
  },
  {
   "cell_type": "code",
   "execution_count": 12,
   "id": "bdb26402",
   "metadata": {},
   "outputs": [
    {
     "name": "stdout",
     "output_type": "stream",
     "text": [
      "The accuracy of Logistic regression after model iterates 7000 times is 0.506\n"
     ]
    }
   ],
   "source": [
    "#Calculate the accuracy rate: \n",
    "accurate = 0\n",
    "for i in range(len(new_dataset)):\n",
    "    if new_dataset.iloc[i][4] == new_dataset.iloc[i][5]:\n",
    "            accurate+=1\n",
    "    else:\n",
    "        pass\n",
    "\n",
    "accuracy_rate = accurate/(len(new_dataset))\n",
    "print ('The accuracy of Logistic regression after model iterates',n_iteration,'times is',accuracy_rate)"
   ]
  },
  {
   "cell_type": "code",
   "execution_count": null,
   "id": "43fb90ee",
   "metadata": {},
   "outputs": [],
   "source": []
  }
 ],
 "metadata": {
  "kernelspec": {
   "display_name": "Python 3 (ipykernel)",
   "language": "python",
   "name": "python3"
  },
  "language_info": {
   "codemirror_mode": {
    "name": "ipython",
    "version": 3
   },
   "file_extension": ".py",
   "mimetype": "text/x-python",
   "name": "python",
   "nbconvert_exporter": "python",
   "pygments_lexer": "ipython3",
   "version": "3.9.7"
  }
 },
 "nbformat": 4,
 "nbformat_minor": 5
}
