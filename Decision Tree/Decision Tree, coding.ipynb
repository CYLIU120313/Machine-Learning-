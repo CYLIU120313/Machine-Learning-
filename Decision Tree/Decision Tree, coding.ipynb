{
 "cells": [
  {
   "cell_type": "code",
   "execution_count": 1,
   "id": "098aa02c",
   "metadata": {},
   "outputs": [],
   "source": [
    "import pandas as pd\n",
    "import numpy as np\n",
    "import math\n"
   ]
  },
  {
   "cell_type": "code",
   "execution_count": 31,
   "id": "6c7cba2c",
   "metadata": {},
   "outputs": [
    {
     "name": "stdout",
     "output_type": "stream",
     "text": [
      "    Occupied      Price  Music       Location  VIP Favorite Beer  Enjoy\n",
      "0       High  Expensive   Loud        Talpiot   No            No      0\n",
      "1       High  Expensive   Loud    City-Center  Yes            No      1\n",
      "2   Moderate     Normal  Quiet    City-Center   No           Yes      1\n",
      "3   Moderate  Expensive  Quiet  German-Colony   No            No      0\n",
      "4   Moderate  Expensive  Quiet  German-Colony  Yes           Yes      1\n",
      "5   Moderate     Normal  Quiet      Ein-Karem   No            No      1\n",
      "6        Low     Normal  Quiet      Ein-Karem   No            No      0\n",
      "7   Moderate      Cheap   Loud  Mahane-Yehuda   No            No      1\n",
      "8       High  Expensive   Loud    City-Center  Yes           Yes      1\n",
      "9        Low      Cheap  Quiet    City-Center   No            No      0\n",
      "10  Moderate      Cheap   Loud        Talpiot   No           Yes      0\n",
      "11       Low      Cheap  Quiet        Talpiot  Yes           Yes      0\n",
      "12  Moderate  Expensive  Quiet  Mahane-Yehuda   No           Yes      1\n",
      "13      High     Normal   Loud  Mahane-Yehuda  Yes           Yes      1\n",
      "14  Moderate     Normal   Loud      Ein-Karem   No           Yes      1\n",
      "15      High     Normal  Quiet  German-Colony   No            No      0\n",
      "16      High      Cheap   Loud    City-Center   No           Yes      1\n",
      "17       Low     Normal  Quiet    City-Center   No            No      0\n",
      "18       Low  Expensive   Loud  Mahane-Yehuda   No            No      0\n",
      "19  Moderate     Normal  Quiet        Talpiot   No            No      1\n",
      "20       Low     Normal  Quiet    City-Center   No            No      1\n",
      "21       Low      Cheap   Loud      Ein-Karem  Yes           Yes      1\n"
     ]
    }
   ],
   "source": [
    "#Read the csv.file, storing it to varaible \"data_enjoy\":\n",
    "\n",
    "data_enjoy = pd.read_csv(\"C:/Users/User/Desktop/USC/Machine Learning/dt_data.csv\")\n",
    "\n",
    "#Replace the 'Enjoy' labels:\"1\" for \"yes\" and \"0\" for \"no\":\n",
    "\n",
    "(data_enjoy['Enjoy']).replace(['Yes', 'No'], [1, 0], inplace=True)\n",
    "\n",
    "#Save all attributes to variable fs_of_enjoy to run program with ease:\n",
    "\n",
    "fs_of_enjoy = ['Occupied', 'Price', 'Music', 'Location', 'VIP', 'Favorite Beer']\n",
    "\n",
    "print(data_enjoy)"
   ]
  },
  {
   "cell_type": "code",
   "execution_count": 3,
   "id": "589e7013",
   "metadata": {},
   "outputs": [
    {
     "data": {
      "text/plain": [
       "0.9760206482366149"
      ]
     },
     "execution_count": 3,
     "metadata": {},
     "output_type": "execute_result"
    }
   ],
   "source": [
    "#First, define the entropy function:\n",
    "\n",
    "def get_entropy(data, label):\n",
    "    label_value, label_count = np.unique(data[label], return_counts=True)\n",
    "\n",
    "    entropy_value = np.sum(np.fromiter(((-label_count[i]/np.sum(label_count))*\n",
    "                                        np.log2(label_count[i]/np.sum(label_count))\n",
    "                            for i in range(len(label_value))),float))\n",
    "    return (entropy_value)\n",
    "\n",
    "#Test the above fucntion with calculating total entropy of night-outs data\n",
    "get_entropy(data_enjoy,'Enjoy')"
   ]
  },
  {
   "cell_type": "code",
   "execution_count": 24,
   "id": "32ab3332",
   "metadata": {},
   "outputs": [],
   "source": [
    "#Then,define the function of calculating information gain\n",
    "\n",
    "def info_gain(data, attribute, label):\n",
    "    data_entropy = get_entropy(data, label)\n",
    "\n",
    "    feat_value, feat_number = np.unique(data[attribute], return_counts=True)\n",
    "\n",
    "#feat_value = the feature values a certain feature (attribute) has,\n",
    "#feat_number = the numbers of every feature values      \n",
    "    \n",
    "    weighted_feat_entropy = np.sum([(feat_number[i]/np.sum(feat_number))*\n",
    "                            get_entropy((data_enjoy.where(data_enjoy[attribute] == feat_value[i]).dropna()),label)\n",
    "                            for i in range(len(feat_value))])\n",
    "\n",
    "    information_gain = data_entropy - weighted_feat_entropy\n",
    "\n",
    "    return(information_gain)\n"
   ]
  },
  {
   "cell_type": "code",
   "execution_count": 26,
   "id": "13e5ca7a",
   "metadata": {},
   "outputs": [],
   "source": [
    "#Define the function to find the attribute that gives us the largest information gain \n",
    "\n",
    "def best_attri(data,attributes,label):\n",
    "    \n",
    "    for i in range(len(attributes)):\n",
    "        gain = info_gain(data,(attributes[i]),label)\n",
    "        \n",
    "        best_attri_index = np.argmax(gain)\n",
    "    \n",
    "    return (best_attri_index)"
   ]
  },
  {
   "cell_type": "code",
   "execution_count": 27,
   "id": "607ddbd5",
   "metadata": {},
   "outputs": [],
   "source": [
    "#Constructing the decision tree with above functions\n",
    "\n",
    "def create_tree (data,attributes,label,root_node = None):\n",
    "\n",
    "#If all entities belongs to the same label class, returning that label class:     \n",
    "    \n",
    "    if len(np.unique(data[label])) <= 1: \n",
    "        return np.unique(data[label])[0]\n",
    "\n",
    "#If no attributes remained,returning root node:\n",
    "    \n",
    "    elif len(attributes) == 0:\n",
    "        return root_node\n",
    "\n",
    "#Elsewhile, keep constructing the decision tree:\n",
    "\n",
    "    else:\n",
    "\n",
    "#Update the root node value:\n",
    "        root_node = np.unique(data[label])[np.argmax(np.unique(data[label],return_counts=True)[1])]\n",
    "\n",
    "    best_attribute_number = best_attri(data,attributes, label)\n",
    "#best_attribute_number: the index in attribute list of the attribute having the largest info gain    \n",
    "       \n",
    "    best_attribute_name = attributes[best_attribute_number]\n",
    "#best_attribute_name: that attribue's name \n",
    "\n",
    "\n",
    "#Delete the used attributes from the attribute list:\n",
    "      \n",
    "    attributes = [k for k in attributes if k!= best_attribute_name] \n",
    "\n",
    "#Define the decision tree's foundation:    \n",
    "    \n",
    "    Decision_tree = {best_attribute_name:{}}\n",
    "\n",
    "#Start to build the tree:    \n",
    "       \n",
    "    for i in np.unique(data[best_attribute_name]):\n",
    "        \n",
    "        i = i \n",
    "\n",
    "#Reconstruct the data everytime we find a best-information gain attribute:        \n",
    "        new_data_df = data_enjoy.where((data[best_attribute_name])==i).dropna()\n",
    "        \n",
    "        Decision_tree[best_attribute_name][i] = create_tree(new_data_df,attributes,label,root_node)\n",
    "    \n",
    "    return Decision_tree  "
   ]
  },
  {
   "cell_type": "code",
   "execution_count": 28,
   "id": "6fafca86",
   "metadata": {
    "scrolled": true
   },
   "outputs": [
    {
     "data": {
      "text/plain": [
       "{'Occupied': {'High': {'Price': {'Cheap': 1.0,\n",
       "    'Expensive': {'Music': {'Loud': {'Location': {'City-Center': 1.0,\n",
       "        'Talpiot': 0.0}}}},\n",
       "    'Normal': {'Music': {'Loud': 1.0, 'Quiet': 0.0}}}},\n",
       "  'Low': {'Price': {'Cheap': {'Music': {'Loud': 1.0, 'Quiet': 0.0}},\n",
       "    'Expensive': 0.0,\n",
       "    'Normal': {'Music': {'Quiet': {'Location': {'City-Center': {'VIP': {'No': {'Favorite Beer': {'No': 0.0}}}},\n",
       "        'Ein-Karem': 0.0}}}}}},\n",
       "  'Moderate': {'Price': {'Cheap': {'Music': {'Loud': {'Location': {'Mahane-Yehuda': 1.0,\n",
       "        'Talpiot': 0.0}}}},\n",
       "    'Expensive': {'Music': {'Quiet': {'Location': {'German-Colony': {'VIP': {'No': 0.0,\n",
       "          'Yes': 1.0}},\n",
       "        'Mahane-Yehuda': 1.0}}}},\n",
       "    'Normal': 1.0}}}}"
      ]
     },
     "execution_count": 28,
     "metadata": {},
     "output_type": "execute_result"
    }
   ],
   "source": [
    "create_tree(data_enjoy,fs_of_enjoy,'Enjoy',root_node = None)"
   ]
  },
  {
   "cell_type": "code",
   "execution_count": 29,
   "id": "18b4c2c1",
   "metadata": {},
   "outputs": [],
   "source": [
    "#Build the classifier \n",
    "\n",
    "def classifier(my_tree, attrs_to_categorize, test_data):\n",
    "\n",
    "#Because the data type of decision tree is dictionary,we use index to filter through the decision tree:    \n",
    "    Dict = my_tree[list(my_tree.keys())[0]]\n",
    "    Index = attrs_to_categorize.index(list(my_tree.keys())[0])\n",
    "    class_Label = '0'\n",
    "    \n",
    "    for key in Dict.keys():\n",
    "        if test_data[Index] == key:\n",
    "            if type(Dict[key]).__name__ == 'dict':\n",
    "                class_Label = classifier(Dict[key],attrs_to_categorize, test_data)\n",
    "            else:\n",
    "                class_Label = Dict[key]\n",
    "    return class_Label"
   ]
  },
  {
   "cell_type": "code",
   "execution_count": 30,
   "id": "f87ed6e4",
   "metadata": {},
   "outputs": [
    {
     "data": {
      "text/plain": [
       "'0'"
      ]
     },
     "execution_count": 30,
     "metadata": {},
     "output_type": "execute_result"
    }
   ],
   "source": [
    "tree_enjoy = create_tree(data_enjoy,fs_of_enjoy,'Enjoy',root_node = None)\n",
    "\n",
    "#Entering a case for prediciton:\n",
    "\n",
    "classifier(tree_enjoy,['Occupied', 'Price', 'Music', 'Location', 'VIP', 'Favorite Beer'],\n",
    "           ['Moderate','Cheap','Loud','City-Center','No','No'])"
   ]
  }
 ],
 "metadata": {
  "kernelspec": {
   "display_name": "Python 3 (ipykernel)",
   "language": "python",
   "name": "python3"
  },
  "language_info": {
   "codemirror_mode": {
    "name": "ipython",
    "version": 3
   },
   "file_extension": ".py",
   "mimetype": "text/x-python",
   "name": "python",
   "nbconvert_exporter": "python",
   "pygments_lexer": "ipython3",
   "version": "3.9.7"
  }
 },
 "nbformat": 4,
 "nbformat_minor": 5
}
